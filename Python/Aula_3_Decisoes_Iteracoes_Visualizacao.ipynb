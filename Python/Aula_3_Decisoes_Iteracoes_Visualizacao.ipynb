{
  "nbformat": 4,
  "nbformat_minor": 0,
  "metadata": {
    "colab": {
      "provenance": [],
      "collapsed_sections": [
        "8km-FnDsjdxn"
      ],
      "authorship_tag": "ABX9TyMoah1OafAob+qkmuzJtu1I",
      "include_colab_link": true
    },
    "kernelspec": {
      "name": "python3",
      "display_name": "Python 3"
    },
    "language_info": {
      "name": "python"
    }
  },
  "cells": [
    {
      "cell_type": "markdown",
      "metadata": {
        "id": "view-in-github",
        "colab_type": "text"
      },
      "source": [
        "<a href=\"https://colab.research.google.com/github/PedroConst/EQE-400-Modelagem/blob/main/Python/Aula_3_Decisoes_Iteracoes_Visualizacao.ipynb\" target=\"_parent\"><img src=\"https://colab.research.google.com/assets/colab-badge.svg\" alt=\"Open In Colab\"/></a>"
      ]
    },
    {
      "cell_type": "markdown",
      "source": [
        "# Aula 03: Decisões, Iterações e Visualização\n",
        "\n",
        "Já aprendemos a realizar operações matemáticas, definir variáveis e implementar funções em Python. Nesta aula, vamos aprender duas ferramentas fundamentais da lógica de programação: (1) tomar decisões e (2) repetir cálculos iterativamente. Por fim, vamos discutir algumas maneiras simples de visualizar resultados através de gráficos."
      ],
      "metadata": {
        "id": "h9ALdQzafTHA"
      }
    },
    {
      "cell_type": "markdown",
      "source": [
        "## 1. Decisões (`if-else`)\n",
        "\n",
        "```python\n",
        "if expressão lógica A:\n",
        "    código\n",
        "```"
      ],
      "metadata": {
        "id": "igp-X9jIgutw"
      }
    },
    {
      "cell_type": "markdown",
      "source": [
        "\n",
        "\n",
        "---\n",
        "**Exemplo:** Verifique se a média de um aluno é maior que $5.0$\n",
        "\n",
        "\n",
        "---\n",
        "\n",
        "\n"
      ],
      "metadata": {
        "id": "DTn6CnlU3U6W"
      }
    },
    {
      "cell_type": "code",
      "source": [
        "import numpy as np\n",
        "\n",
        "NF = np.average([7,5,3])\n",
        "\n",
        "if NF >= 5.0:\n",
        "    print(f\"Aluno aprovado!\")"
      ],
      "metadata": {
        "id": "_BHFIvL_2vS2",
        "colab": {
          "base_uri": "https://localhost:8080/"
        },
        "outputId": "239db84b-4019-4efd-99a2-fff2d6da1167"
      },
      "execution_count": null,
      "outputs": [
        {
          "output_type": "stream",
          "name": "stdout",
          "text": [
            "Aluno aprovado!\n"
          ]
        }
      ]
    },
    {
      "cell_type": "markdown",
      "source": [
        "```python\n",
        "if expressão lógica A:\n",
        "    código 1\n",
        "else:\n",
        "    código 2\n",
        "```"
      ],
      "metadata": {
        "id": "DSbde4S4oUl3"
      }
    },
    {
      "cell_type": "markdown",
      "source": [
        "\n",
        "\n",
        "---\n",
        "**Exemplo:** Verifique se um número é par ou ímpar.\n",
        "\n",
        "\n",
        "---\n",
        "\n",
        "\n"
      ],
      "metadata": {
        "id": "SeRKkLE8ofgz"
      }
    },
    {
      "cell_type": "code",
      "source": [
        "num = 5\n",
        "\n",
        "# Usar a função % para verificar o resto da divisão\n",
        "if num % 2 == 0:\n",
        "    print(f\"{num} é par!\")\n",
        "else:\n",
        "    print(f\"{num} é ímpar!\")"
      ],
      "metadata": {
        "id": "X7p3scPDofgz",
        "colab": {
          "base_uri": "https://localhost:8080/"
        },
        "outputId": "409b2e25-c118-4a04-c99f-6c913d5c2beb"
      },
      "execution_count": null,
      "outputs": [
        {
          "output_type": "stream",
          "name": "stdout",
          "text": [
            "5 é ímpar!\n"
          ]
        }
      ]
    },
    {
      "cell_type": "markdown",
      "source": [
        "\n",
        "```python\n",
        "if expressão lógica A:\n",
        "    código 1\n",
        "elif expressão lógica B:\n",
        "    código 2\n",
        "elif expressão lógica C:\n",
        "    código 3\n",
        "else:\n",
        "    código 4\n",
        "   \n",
        "```\n"
      ],
      "metadata": {
        "id": "Lbs7DVcnnylX"
      }
    },
    {
      "cell_type": "markdown",
      "source": [
        "\n",
        "\n",
        "---\n",
        "**Exemplo:** Qual será o valor de $y$ após o código a seguir ser executado?\n",
        "\n",
        "\n",
        "---\n",
        "\n",
        "\n"
      ],
      "metadata": {
        "id": "I8Kji0a8iSWY"
      }
    },
    {
      "cell_type": "code",
      "source": [
        "x = 3\n",
        "if x > 1:\n",
        "    y = 2\n",
        "elif x > 2:\n",
        "    y = 4\n",
        "else:\n",
        "    y = 0\n",
        "print(y)"
      ],
      "metadata": {
        "id": "3BGQ4UOniSWY",
        "colab": {
          "base_uri": "https://localhost:8080/"
        },
        "outputId": "a58d5160-21b6-438d-e323-daa2cb2d553e"
      },
      "execution_count": null,
      "outputs": [
        {
          "output_type": "stream",
          "name": "stdout",
          "text": [
            "2\n"
          ]
        }
      ]
    },
    {
      "cell_type": "code",
      "source": [
        "x = 3\n",
        "if x > 1 and x < 2:\n",
        "    y = 2\n",
        "elif x > 2 and x < 4:\n",
        "    y = 4\n",
        "else:\n",
        "    y = 0\n",
        "print(y)"
      ],
      "metadata": {
        "id": "HM3ubO1KsQVg",
        "colab": {
          "base_uri": "https://localhost:8080/"
        },
        "outputId": "d0551db5-bd04-4257-affc-6b1b7b91bdd6"
      },
      "execution_count": null,
      "outputs": [
        {
          "output_type": "stream",
          "name": "stdout",
          "text": [
            "4\n"
          ]
        }
      ]
    },
    {
      "cell_type": "code",
      "source": [
        "x = 3\n",
        "if 1 < x < 2:\n",
        "    y = 2\n",
        "elif 2 < x < 4:\n",
        "    y = 4\n",
        "else:\n",
        "    y = 0\n",
        "print(y)"
      ],
      "metadata": {
        "id": "wRFtO5MCsSPo",
        "colab": {
          "base_uri": "https://localhost:8080/"
        },
        "outputId": "f8aab2cb-8e86-4b3b-91e2-6548ee5d6289"
      },
      "execution_count": null,
      "outputs": [
        {
          "output_type": "stream",
          "name": "stdout",
          "text": [
            "4\n"
          ]
        }
      ]
    },
    {
      "cell_type": "markdown",
      "source": [
        "## 2. Iterações\n"
      ],
      "metadata": {
        "id": "KzeVcw7mifXu"
      }
    },
    {
      "cell_type": "markdown",
      "source": [
        "### 2.1 For-Loop\n",
        "\n",
        "```python\n",
        "for variável in sequência:\n",
        "    bloco de código\n",
        "```"
      ],
      "metadata": {
        "id": "nwas0L7GisDH"
      }
    },
    {
      "cell_type": "markdown",
      "source": [
        "\n",
        "\n",
        "---\n",
        "**Exemplo:** Qual é a soma de todos os inteiros entre $1$ e $5$?\n",
        "\n",
        "\n",
        "---\n",
        "\n",
        "\n"
      ],
      "metadata": {
        "id": "q5hB6XjMl4-F"
      }
    },
    {
      "cell_type": "code",
      "source": [
        "n = 0\n",
        "for i in range(1, 6):\n",
        "    n = n + i\n",
        "\n",
        "print(n)"
      ],
      "metadata": {
        "id": "vAJdwjooiq6v",
        "colab": {
          "base_uri": "https://localhost:8080/"
        },
        "outputId": "c04e7525-0990-4a45-b383-0287c1a7745a"
      },
      "execution_count": null,
      "outputs": [
        {
          "output_type": "stream",
          "name": "stdout",
          "text": [
            "15\n"
          ]
        }
      ]
    },
    {
      "cell_type": "markdown",
      "source": [
        "\n",
        "\n",
        "---\n",
        "**Exemplo:** Calcule a soma dos elementos com índice par da lista $a = [1,2,3,5,7,11]$\n",
        "\n",
        "\n",
        "---\n",
        "\n",
        "\n"
      ],
      "metadata": {
        "id": "60SyS2VQl4-G"
      }
    },
    {
      "cell_type": "code",
      "source": [
        "a = [1, 2, 3, 5, 7, 11]\n",
        "\n",
        "s = 0\n",
        "for i in range(0, len(a), 2):\n",
        "    s += a[i]   # Observe que isso é equivalente: s = s + i\n",
        "\n",
        "print(s)"
      ],
      "metadata": {
        "id": "6dGMtfotl4-G",
        "colab": {
          "base_uri": "https://localhost:8080/"
        },
        "outputId": "da60e264-0179-4da4-a247-682768e35b88"
      },
      "execution_count": null,
      "outputs": [
        {
          "output_type": "stream",
          "name": "stdout",
          "text": [
            "11\n"
          ]
        }
      ]
    },
    {
      "cell_type": "code",
      "source": [
        "for i in range(0,10,2):\n",
        "    print (i)"
      ],
      "metadata": {
        "colab": {
          "base_uri": "https://localhost:8080/"
        },
        "id": "7GVH7ERjErAq",
        "outputId": "7bb5053f-afd7-43cb-eba0-04b20441170c"
      },
      "execution_count": null,
      "outputs": [
        {
          "output_type": "stream",
          "name": "stdout",
          "text": [
            "0\n",
            "2\n",
            "4\n",
            "6\n",
            "8\n"
          ]
        }
      ]
    },
    {
      "cell_type": "markdown",
      "source": [
        "\n",
        "\n",
        "---\n",
        "**Exemplo:** Sair do `for-loop` quando soma dos elementos da sequência anterior ultrapassar o valor $7$.\n",
        "\n",
        "\n",
        "---\n",
        "\n",
        "\n"
      ],
      "metadata": {
        "id": "7qDk6roFl6Uo"
      }
    },
    {
      "cell_type": "code",
      "source": [
        "a = [1, 2, 3, 5, 7, 11]\n",
        "\n",
        "s = 0\n",
        "for i in range(len(a)):\n",
        "    s+=a[i]\n",
        "    if s>=7:\n",
        "        print(f\"Cheguei no valor s = {s} em i = {i+1} iterações!\")\n",
        "        break    # Usar o comando \"break\" para sair do loop\n",
        "\n",
        "print(\"Estou fora do loop\")"
      ],
      "metadata": {
        "id": "-OJTrIUel6Uo",
        "colab": {
          "base_uri": "https://localhost:8080/"
        },
        "outputId": "a4fc4cd9-2b54-4b16-fa66-cc24ffd6ebfb"
      },
      "execution_count": null,
      "outputs": [
        {
          "output_type": "stream",
          "name": "stdout",
          "text": [
            "Cheguei no valor s = 11 em i = 4 iterações!\n",
            "Estou fora do loop\n"
          ]
        }
      ]
    },
    {
      "cell_type": "markdown",
      "source": [
        "\n",
        "\n",
        "---\n",
        "**Exemplo:** Use um loop aninhado para calcular a soma de todos os elementos da matriz $x = \\begin{pmatrix} 1 & 2 \\\\ 3 & 4 \\end{pmatrix}$\n",
        "\n",
        "\n",
        "---\n",
        "\n",
        "\n"
      ],
      "metadata": {
        "id": "2dzCGhirl6Uo"
      }
    },
    {
      "cell_type": "code",
      "source": [
        "x = np.array([[1, 2], [3, 4]])\n",
        "n, m = x.shape\n",
        "\n",
        "s = 0\n",
        "for i in range(n):\n",
        "    for j in range(m):\n",
        "        s += x[i, j]\n",
        "\n",
        "print(s)"
      ],
      "metadata": {
        "id": "faaj7oAyl6Uo",
        "colab": {
          "base_uri": "https://localhost:8080/"
        },
        "outputId": "b19fad7f-8050-421e-9010-55a2e09f5365"
      },
      "execution_count": null,
      "outputs": [
        {
          "output_type": "stream",
          "name": "stdout",
          "text": [
            "10\n"
          ]
        }
      ]
    },
    {
      "cell_type": "markdown",
      "source": [
        "### 2.2 While-Loop\n",
        "\n",
        "```python\n",
        "while <expressão lógica>:\n",
        "    # Código a ser repetido até a expressão lógica ser falsa\n",
        "    bloco de código\n",
        "```"
      ],
      "metadata": {
        "id": "FlqtHm89i9S3"
      }
    },
    {
      "cell_type": "markdown",
      "source": [
        "\n",
        "\n",
        "---\n",
        "**Exemplo:** Determine o número de vezes que $20$ pode ser dividido por $2$ até que o resultado seja menor que $1$.\n",
        "\n",
        "\n",
        "---\n",
        "\n",
        "\n"
      ],
      "metadata": {
        "id": "sS2U3ie2l7MN"
      }
    },
    {
      "cell_type": "code",
      "source": [
        "n = 20\n",
        "i = 0   # Contador\n",
        "\n",
        "while n >= 1:\n",
        "    n /= 2      # n = n/2\n",
        "    i += 1      # i = i + 1\n",
        "\n",
        "print(f'n = {n}, i = {i}')"
      ],
      "metadata": {
        "id": "UA7oDxsbl7MN",
        "colab": {
          "base_uri": "https://localhost:8080/"
        },
        "outputId": "1a6d498d-87a4-4a8b-d204-c77c95d83ca7"
      },
      "execution_count": null,
      "outputs": [
        {
          "output_type": "stream",
          "name": "stdout",
          "text": [
            "n = 0.625, i = 5\n"
          ]
        }
      ]
    },
    {
      "cell_type": "markdown",
      "source": [
        "\n",
        "\n",
        "---\n",
        "**Exemplo:** Escrever um `while-loop` infinito.\n",
        "\n",
        "\n",
        "---\n",
        "\n",
        "\n"
      ],
      "metadata": {
        "id": "5kUT4AoQl7MN"
      }
    },
    {
      "cell_type": "code",
      "source": [
        "# Exemplo 1\n",
        "n = 1\n",
        "\n",
        "while n>0:\n",
        "    n += 1      # n = n + 1\n"
      ],
      "metadata": {
        "id": "N5RwAhNcl7MN",
        "colab": {
          "base_uri": "https://localhost:8080/",
          "height": 211
        },
        "outputId": "c3d9fcc5-b305-4038-e553-a254bd5547ee"
      },
      "execution_count": null,
      "outputs": [
        {
          "output_type": "error",
          "ename": "KeyboardInterrupt",
          "evalue": "ignored",
          "traceback": [
            "\u001b[0;31m------------------------------------------------------------------------\u001b[0m",
            "\u001b[0;31mKeyboardInterrupt\u001b[0m                      Traceback (most recent call last)",
            "\u001b[0;32m<ipython-input-16-b3145a5bed45>\u001b[0m in \u001b[0;36m<module>\u001b[0;34m()\u001b[0m\n\u001b[1;32m      3\u001b[0m \u001b[0;34m\u001b[0m\u001b[0m\n\u001b[1;32m      4\u001b[0m \u001b[0;32mwhile\u001b[0m \u001b[0mn\u001b[0m\u001b[0;34m>\u001b[0m\u001b[0;36m0\u001b[0m\u001b[0;34m:\u001b[0m\u001b[0;34m\u001b[0m\u001b[0m\n\u001b[0;32m----> 5\u001b[0;31m     \u001b[0mn\u001b[0m \u001b[0;34m+=\u001b[0m \u001b[0;36m1\u001b[0m      \u001b[0;31m# n = n + 1\u001b[0m\u001b[0;34m\u001b[0m\u001b[0m\n\u001b[0m",
            "\u001b[0;31mKeyboardInterrupt\u001b[0m: "
          ]
        }
      ]
    },
    {
      "cell_type": "code",
      "source": [
        "# Exemplo 2: Será um Loop infinito?\n",
        "n = 1\n",
        "while n > 0:\n",
        "    n /= 2"
      ],
      "metadata": {
        "id": "WEBEJ5wtVYlT"
      },
      "execution_count": null,
      "outputs": []
    },
    {
      "cell_type": "code",
      "source": [
        "# Exemplo 3: Será um Loop infinito?\n",
        "n = 2\n",
        "while n > 0:\n",
        "    if n % 2 == 0:\n",
        "        n += 1\n",
        "    else:\n",
        "        n -= 1"
      ],
      "metadata": {
        "id": "eDlHQInWVhNi",
        "colab": {
          "base_uri": "https://localhost:8080/",
          "height": 211
        },
        "outputId": "47003e85-d966-4ffe-d621-d92b9a365746"
      },
      "execution_count": null,
      "outputs": [
        {
          "output_type": "error",
          "ename": "KeyboardInterrupt",
          "evalue": "ignored",
          "traceback": [
            "\u001b[0;31m------------------------------------------------------------------------\u001b[0m",
            "\u001b[0;31mKeyboardInterrupt\u001b[0m                      Traceback (most recent call last)",
            "\u001b[0;32m<ipython-input-18-a978d07db54b>\u001b[0m in \u001b[0;36m<module>\u001b[0;34m()\u001b[0m\n\u001b[1;32m      5\u001b[0m         \u001b[0mn\u001b[0m \u001b[0;34m+=\u001b[0m \u001b[0;36m1\u001b[0m\u001b[0;34m\u001b[0m\u001b[0m\n\u001b[1;32m      6\u001b[0m     \u001b[0;32melse\u001b[0m\u001b[0;34m:\u001b[0m\u001b[0;34m\u001b[0m\u001b[0m\n\u001b[0;32m----> 7\u001b[0;31m         \u001b[0mn\u001b[0m \u001b[0;34m-=\u001b[0m \u001b[0;36m1\u001b[0m\u001b[0;34m\u001b[0m\u001b[0m\n\u001b[0m",
            "\u001b[0;31mKeyboardInterrupt\u001b[0m: "
          ]
        }
      ]
    },
    {
      "cell_type": "markdown",
      "source": [
        "### 2.3 Comprehension"
      ],
      "metadata": {
        "id": "8km-FnDsjdxn"
      }
    },
    {
      "cell_type": "markdown",
      "source": [
        "\n",
        "\n",
        "---\n",
        "**Exemplo:** Calcular o quadrado de cada elemento em uma lista.\n",
        "\n",
        "\n",
        "---\n",
        "\n",
        "\n"
      ],
      "metadata": {
        "id": "QW0wiknCl7to"
      }
    },
    {
      "cell_type": "code",
      "source": [
        "x = range(5)\n",
        "y = []\n",
        "\n",
        "for i in x:\n",
        "    y.append(i**2)\n",
        "print(y)"
      ],
      "metadata": {
        "id": "T5eADJDXjhsn"
      },
      "execution_count": null,
      "outputs": []
    },
    {
      "cell_type": "code",
      "source": [
        "y = [i**2 for i in x]\n",
        "print(y)"
      ],
      "metadata": {
        "id": "BI_gANrzl7tp"
      },
      "execution_count": null,
      "outputs": []
    },
    {
      "cell_type": "markdown",
      "source": [
        "\n",
        "\n",
        "---\n",
        "**Exemplo:** Calcular o quadrado somente dos elementos de índice par.\n",
        "\n",
        "\n",
        "---\n",
        "\n",
        "\n"
      ],
      "metadata": {
        "id": "1K48L01zl7tp"
      }
    },
    {
      "cell_type": "code",
      "source": [
        "y = [i**2 for i in x if i%2 == 0]\n",
        "print(y)"
      ],
      "metadata": {
        "id": "O6QUIYEil7tp"
      },
      "execution_count": null,
      "outputs": []
    },
    {
      "cell_type": "markdown",
      "source": [
        "## 3. Visualização `plt`\n",
        "\n",
        "https://matplotlib.org/stable/gallery/"
      ],
      "metadata": {
        "id": "CLK5yx9AjlK3"
      }
    },
    {
      "cell_type": "code",
      "source": [
        "import numpy as np\n",
        "import matplotlib.pyplot as plt"
      ],
      "metadata": {
        "id": "sxu2g40Yjpbn"
      },
      "execution_count": null,
      "outputs": []
    },
    {
      "cell_type": "markdown",
      "source": [
        "### 3.1 Figuras em 2D"
      ],
      "metadata": {
        "id": "LUgsGoFVGAf1"
      }
    },
    {
      "cell_type": "markdown",
      "source": [
        "\n",
        "\n",
        "---\n",
        "**Exemplo:** Visualizar a correlação entre dois vetores (arrays).\n",
        "\n",
        "\n",
        "---\n",
        "\n",
        "\n"
      ],
      "metadata": {
        "id": "EFY1jRPAl8SO"
      }
    },
    {
      "cell_type": "code",
      "source": [
        "# Gerar os dados da função\n",
        "x = np.linspace(-2*np.pi,2*np.pi, 10)\n",
        "y = np.sin(x)\n",
        "\n",
        "# Plotar o gráfico\n",
        "plt.plot(x,y)\n",
        "\n",
        "# Mostrar o resultado\n",
        "plt.show()"
      ],
      "metadata": {
        "id": "9m1tqoX4l8SO",
        "colab": {
          "base_uri": "https://localhost:8080/",
          "height": 269
        },
        "outputId": "99b859a5-24cb-4d77-8bb4-d3c3d359ba47"
      },
      "execution_count": null,
      "outputs": [
        {
          "output_type": "display_data",
          "data": {
            "text/plain": [
              "<Figure size 432x288 with 1 Axes>"
            ],
            "image/png": "[encoded data removed]"
          },
          "metadata": {}
        }
      ]
    },
    {
      "cell_type": "markdown",
      "source": [
        "\n",
        "\n",
        "---\n",
        "**Exemplo:** Modificar marcadores e plotar mais de uma curva.\n",
        "\n",
        "\n",
        "---\n",
        "\n",
        "\n"
      ],
      "metadata": {
        "id": "vAIQntxol8SO"
      }
    },
    {
      "cell_type": "code",
      "source": [
        "x = np.linspace(-2*np.pi,2*np.pi, 100)\n",
        "y1 = np.sin(x)\n",
        "y2 = np.cos(x)\n",
        "\n",
        "plt.plot(x, y1, 'go')\n",
        "plt.plot(x, y2, 'r--')\n",
        "\n",
        "plt.show()"
      ],
      "metadata": {
        "id": "XVgv_iTyl8SP",
        "colab": {
          "base_uri": "https://localhost:8080/",
          "height": 269
        },
        "outputId": "05112d4c-4012-405e-a410-2f1cfe1821c6"
      },
      "execution_count": null,
      "outputs": [
        {
          "output_type": "display_data",
          "data": {
            "text/plain": [
              "<Figure size 432x288 with 1 Axes>"
            ],
            "image/png": "[encoded data removed]"
          },
          "metadata": {}
        }
      ]
    },
    {
      "cell_type": "markdown",
      "source": [
        "\n",
        "\n",
        "---\n",
        "**Exemplo:** Inserir título e nomes nos eixos.\n",
        "\n",
        "\n",
        "---\n",
        "\n",
        "\n"
      ],
      "metadata": {
        "id": "2vMFhXhXptlD"
      }
    },
    {
      "cell_type": "code",
      "source": [
        "x = np.linspace(-2*np.pi,2*np.pi, 100)\n",
        "y1 = np.sin(x)\n",
        "y2 = np.cos(x)\n",
        "\n",
        "plt.plot(x, y1, 'k-.')\n",
        "plt.plot(x, y2, 'r:')\n",
        "\n",
        "plt.title('Funções Trigonométricas')\n",
        "plt.xlabel('Eixo x')\n",
        "plt.ylabel('Y(x)')\n",
        "\n",
        "plt.show()"
      ],
      "metadata": {
        "id": "xkHJC7n-jwkM",
        "colab": {
          "base_uri": "https://localhost:8080/",
          "height": 295
        },
        "outputId": "60aa745a-745d-44ac-fa3f-d4da4710c6ae"
      },
      "execution_count": null,
      "outputs": [
        {
          "output_type": "display_data",
          "data": {
            "text/plain": [
              "<Figure size 432x288 with 1 Axes>"
            ],
            "image/png": "[encoded data removed]"
          },
          "metadata": {}
        }
      ]
    },
    {
      "cell_type": "markdown",
      "source": [
        "\n",
        "\n",
        "---\n",
        "**Exemplo:** Aumentar o tamanho da figura e inserir legenda.\n",
        "\n",
        "\n",
        "---\n",
        "\n",
        "\n"
      ],
      "metadata": {
        "id": "gc6RLsLzsuLL"
      }
    },
    {
      "cell_type": "code",
      "source": [
        "x = np.linspace(-2*np.pi,2*np.pi, 100)\n",
        "y1 = np.sin(x)\n",
        "y2 = np.cos(x)\n",
        "\n",
        "plt.figure(figsize = (10,5))\n",
        "\n",
        "plt.plot(x, y1, 'c*', label = 'sen(x)')\n",
        "plt.plot(x, y2, 'm^', label = 'cos(x)')\n",
        "\n",
        "plt.title('Funções Trigonométricas')\n",
        "plt.xlabel('Eixo x')\n",
        "plt.ylabel('y(x)')\n",
        "\n",
        "plt.legend()\n",
        "\n",
        "plt.show()"
      ],
      "metadata": {
        "id": "7atDS0etpEoU",
        "colab": {
          "base_uri": "https://localhost:8080/",
          "height": 350
        },
        "outputId": "6dbbe9c1-2576-4ceb-9832-5c23ee094f18"
      },
      "execution_count": null,
      "outputs": [
        {
          "output_type": "display_data",
          "data": {
            "text/plain": [
              "<Figure size 720x360 with 1 Axes>"
            ],
            "image/png": "[encoded data removed]"
          },
          "metadata": {}
        }
      ]
    },
    {
      "cell_type": "markdown",
      "source": [
        "\n",
        "\n",
        "---\n",
        "**Exemplo:** Modificar os limites dos eixos e inserir grid.\n",
        "\n",
        "\n",
        "---\n",
        "\n",
        "\n"
      ],
      "metadata": {
        "id": "kn0SWJz5wzXS"
      }
    },
    {
      "cell_type": "code",
      "source": [
        "x = np.linspace(-2*np.pi,2*np.pi, 100)\n",
        "y1 = np.sin(x)\n",
        "y2 = np.cos(x)\n",
        "\n",
        "plt.figure(figsize = (10,5))\n",
        "\n",
        "plt.plot(x, y1, 'k-.', label = 'sen(x)')\n",
        "plt.plot(x, y2, 'rx', label = 'cos(s)')\n",
        "\n",
        "plt.title('Funções Trigonométricas')\n",
        "plt.xlabel('Eixo x')\n",
        "plt.ylabel('y(x)')\n",
        "\n",
        "plt.legend(loc = 2)\n",
        "\n",
        "plt.xlim(-3,3)\n",
        "plt.ylim(-2,2)\n",
        "plt.grid()\n",
        "\n",
        "plt.show()"
      ],
      "metadata": {
        "id": "IWyT6nPqtdn8",
        "colab": {
          "base_uri": "https://localhost:8080/",
          "height": 350
        },
        "outputId": "62033c52-9abf-492b-b5d4-4a379d8b0aa3"
      },
      "execution_count": null,
      "outputs": [
        {
          "output_type": "display_data",
          "data": {
            "text/plain": [
              "<Figure size 720x360 with 1 Axes>"
            ],
            "image/png": "[encoded data removed]"
          },
          "metadata": {}
        }
      ]
    },
    {
      "cell_type": "markdown",
      "source": [
        "\n",
        "\n",
        "---\n",
        "**Exemplo:** Utilizar subplots e outras funções de plotagem: `plot`, `scatter`, `bar`, `loglog`, `semilogx`, `semilogy`.\n",
        "\n",
        "\n",
        "---\n",
        "\n",
        "\n"
      ],
      "metadata": {
        "id": "VDU77uBkzmyf"
      }
    },
    {
      "cell_type": "code",
      "source": [
        "x = np.arange(20)\n",
        "y = x**2\n",
        "\n",
        "# Criar uma figura com tamanho especificado\n",
        "plt.figure(figsize = (14, 8))\n",
        "\n",
        "# Criar primeiro subplot (2 x 3)\n",
        "plt.subplot(2, 3, 1)\n",
        "plt.plot(x,y)           # função plot\n",
        "plt.title('Plot')\n",
        "plt.xlabel('X')\n",
        "plt.ylabel('Y')\n",
        "plt.grid()\n",
        "\n",
        "plt.subplot(2, 3, 2)\n",
        "plt.scatter(x,y)        # função scatter\n",
        "plt.title('Scatter')\n",
        "plt.xlabel('X')\n",
        "plt.ylabel('Y')\n",
        "plt.grid()\n",
        "\n",
        "plt.subplot(2, 3, 3)\n",
        "plt.bar(x,y)            # função bar\n",
        "plt.title('Bar')\n",
        "plt.xlabel('X')\n",
        "plt.ylabel('Y')\n",
        "plt.grid()\n",
        "\n",
        "plt.subplot(2, 3, 4)\n",
        "plt.loglog(x,y)         # função log-log\n",
        "plt.title('Loglog')\n",
        "plt.xlabel('X')\n",
        "plt.ylabel('Y')\n",
        "plt.grid(which='both')\n",
        "\n",
        "plt.subplot(2, 3, 5)\n",
        "plt.semilogx(x,y)       # função semilog\n",
        "plt.title('Semilogx')\n",
        "plt.xlabel('X')\n",
        "plt.ylabel('Y')\n",
        "plt.grid(which='both')\n",
        "\n",
        "plt.subplot(2, 3, 6)\n",
        "plt.semilogy(x,y)       # função semilog\n",
        "plt.title('Semilogy')\n",
        "plt.xlabel('X')\n",
        "plt.ylabel('Y')\n",
        "plt.grid()\n",
        "\n",
        "plt.tight_layout()  # Para evitar que haja sobreposição!\n",
        "\n",
        "plt.show()"
      ],
      "metadata": {
        "id": "gSMfCpBgv4FV",
        "colab": {
          "base_uri": "https://localhost:8080/",
          "height": 401
        },
        "outputId": "bb968348-ae99-413f-9b5e-b91841bd20c1"
      },
      "execution_count": null,
      "outputs": [
        {
          "output_type": "display_data",
          "data": {
            "text/plain": [
              "<Figure size 1008x576 with 6 Axes>"
            ],
            "image/png": "[encoded data removed]"
          },
          "metadata": {}
        }
      ]
    },
    {
      "cell_type": "markdown",
      "source": [
        "\n",
        "\n",
        "---\n",
        "**Exemplo:** Salvar a figura.\n",
        "\n",
        "\n",
        "---\n",
        "\n",
        "\n"
      ],
      "metadata": {
        "id": "YGW64yl7z_3N"
      }
    },
    {
      "cell_type": "code",
      "source": [
        "x = np.arange(20)\n",
        "y = x**2\n",
        "\n",
        "plt.plot(x,y)\n",
        "\n",
        "plt.xlabel(\"eixo x\")\n",
        "plt.ylabel(\"eixo y\")\n",
        "\n",
        "plt.savefig(\"imagem_exemplo.png\", dpi=300)"
      ],
      "metadata": {
        "id": "1Vyau_uwyttU",
        "colab": {
          "base_uri": "https://localhost:8080/",
          "height": 283
        },
        "outputId": "1ea0f03e-52d9-4ee8-d92b-bfc4c3e37465"
      },
      "execution_count": null,
      "outputs": [
        {
          "output_type": "display_data",
          "data": {
            "text/plain": [
              "<Figure size 432x288 with 1 Axes>"
            ],
            "image/png": "[encoded data removed]"
          },
          "metadata": {}
        }
      ]
    },
    {
      "cell_type": "markdown",
      "source": [
        "### 3.2 Figuras em 3D"
      ],
      "metadata": {
        "id": "hPXLNOs8F26n"
      }
    },
    {
      "cell_type": "code",
      "source": [
        "import numpy as np\n",
        "import matplotlib.pyplot as plt"
      ],
      "metadata": {
        "id": "FrpGMx120dxs"
      },
      "execution_count": null,
      "outputs": []
    },
    {
      "cell_type": "code",
      "source": [
        "# Criar uma figura e especificar o tamanho\n",
        "fig = plt.figure(figsize = (7,6))\n",
        "\n",
        "# Criar os eixos tridimensionais\n",
        "ax = plt.axes(projection='3d')\n",
        "ax.grid()\n",
        "\n",
        "# Gerar os dados da curva paramétrica\n",
        "t = np.arange(0, 10*np.pi, np.pi/50)\n",
        "x = np.sin(t)\n",
        "y = np.cos(t)\n",
        "\n",
        "# Plotar o gráfico\n",
        "ax.plot3D(x, y, t)\n",
        "\n",
        "# Colocar título no gráfico\n",
        "ax.set_title('3D Curva Paramétrica')\n",
        "\n",
        "# Colocar nome nos eixos\n",
        "ax.set_xlabel('x')\n",
        "ax.set_ylabel('y')\n",
        "ax.set_zlabel('t')\n",
        "\n",
        "plt.show()"
      ],
      "metadata": {
        "id": "zMsmiaFUGOzU"
      },
      "execution_count": null,
      "outputs": []
    },
    {
      "cell_type": "code",
      "source": [
        "# Gerar os dados\n",
        "x = np.random.random(50)\n",
        "y = np.random.random(50)\n",
        "z = np.random.random(50)\n",
        "\n",
        "# Criar uma figura\n",
        "fig = plt.figure(figsize = (7,6))\n",
        "\n",
        "# Especificar eixos tridimensionais\n",
        "ax = plt.axes(projection='3d')\n",
        "ax.grid()\n",
        "\n",
        "# Plotar os dados\n",
        "ax.scatter(x, y, z, c = 'r', s = 50)\n",
        "\n",
        "# Colocar um título no gráfico\n",
        "ax.set_title('3D Scatter Plot')\n",
        "\n",
        "# Colocar nome nos eixos\n",
        "ax.set_xlabel('x')\n",
        "ax.set_ylabel('y')\n",
        "ax.set_zlabel('z')\n",
        "\n",
        "plt.show()"
      ],
      "metadata": {
        "id": "Fu6QvXhzT5th"
      },
      "execution_count": null,
      "outputs": []
    },
    {
      "cell_type": "markdown",
      "source": [
        "\n",
        "---\n",
        "\n",
        "\n",
        "**Exemplo:** Seja $ f(x)=\\cos(x)\\sin(x)$ no domínio $-5 \\leq x \\leq 5$ e $ -5 \\leq y \\leq 5$.\n",
        "Como plotar uma função contínua ao invés de pontos discretos?\n",
        "\n",
        "\n",
        "---\n",
        "\n"
      ],
      "metadata": {
        "id": "-xzU1auNMR3L"
      }
    },
    {
      "cell_type": "code",
      "source": [
        "x = [1, 2, 3, 4]\n",
        "y = [3, 4, 5]\n",
        "\n",
        "# Gerar todas as combinações possíveis de pontos\n",
        "X, Y = np.meshgrid(x, y)\n",
        "\n",
        "print(f\"X = {X}\")\n",
        "print(f\"Y = {Y}\")"
      ],
      "metadata": {
        "id": "Eq6xvtsAVFHT"
      },
      "execution_count": null,
      "outputs": []
    },
    {
      "cell_type": "code",
      "source": [
        "# Criar figura e eixos tridimensionais\n",
        "fig = plt.figure(figsize = (7,6))\n",
        "ax = plt.axes(projection='3d')\n",
        "\n",
        "# Definir o domínio de cada eixo\n",
        "x = np.arange(-5, 5.1, 0.1)\n",
        "y = np.arange(-5, 5.1, 0.1)\n",
        "\n",
        "# Gerar todas as combinações possíveis de pontos\n",
        "X, Y = np.meshgrid(x, y)\n",
        "\n",
        "# Avaliar a função em cada ponto\n",
        "Z = np.sin(X)*np.cos(Y)\n",
        "\n",
        "# Plotar o gráfico do tipo superfície\n",
        "surf = ax.plot_surface(X, Y, Z, cmap = plt.cm.cividis)\n",
        "\n",
        "# Colocar nomes nos eixos\n",
        "ax.set_xlabel('x')\n",
        "ax.set_ylabel('y')\n",
        "ax.set_zlabel('z')\n",
        "\n",
        "# Criar um mapa de cores\n",
        "fig.colorbar(surf, shrink=0.5, aspect=8)\n",
        "\n",
        "plt.show()"
      ],
      "metadata": {
        "id": "Vsu4PWuAMRI9"
      },
      "execution_count": null,
      "outputs": []
    },
    {
      "cell_type": "code",
      "source": [
        "# Criar uma figura\n",
        "fig = plt.figure(figsize=(7,6))\n",
        "\n",
        "# Criar o primeiro subplot 3D\n",
        "ax = fig.add_subplot(1, 2, 1, projection='3d')  # Gerar eixos\n",
        "ax.plot_wireframe(X,Y,Z)                        # Plotar gráfico tipo Wireframe\n",
        "ax.set_title('Wireframe plot')                  # Colocar título\n",
        "\n",
        "# Criar o segundo subplot 3D\n",
        "ax = fig.add_subplot(1, 2, 2, projection='3d')  # Gerar eixos\n",
        "ax.plot_surface(X,Y,Z)                          # Plotar gráfico tipo\n",
        "ax.set_title('Surface plot')                    # Colocar título\n",
        "\n",
        "plt.show()"
      ],
      "metadata": {
        "id": "eI16YGTvV5-A"
      },
      "execution_count": null,
      "outputs": []
    }
  ]
}