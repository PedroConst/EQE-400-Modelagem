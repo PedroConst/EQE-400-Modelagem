{
  "nbformat": 4,
  "nbformat_minor": 0,
  "metadata": {
    "colab": {
      "provenance": [],
      "collapsed_sections": [
        "GLpZUcF2v3rE",
        "tnfhB8VQudUy",
        "eBmLolSHudKi",
        "n--Jqpr7udBi",
        "ulimeRHjuc2b",
        "rWC4sxyOvuV9",
        "cKuCx8R4vuJ0",
        "tAVHn-Y6xL3n",
        "9TapraSbxLsH",
        "TbXk2aoVxLh3",
        "5lfTxum1zRDS"
      ],
      "authorship_tag": "ABX9TyNgEItReaZC7G/qkBF89qKa",
      "include_colab_link": true
    },
    "kernelspec": {
      "name": "python3",
      "display_name": "Python 3"
    },
    "language_info": {
      "name": "python"
    }
  },
  "cells": [
    {
      "cell_type": "markdown",
      "metadata": {
        "id": "view-in-github",
        "colab_type": "text"
      },
      "source": [
        "<a href=\"https://colab.research.google.com/github/PedroConst/EQE-400-Modelagem/blob/main/Python/Aula_2_Variaveis_Funcoes.ipynb\" target=\"_parent\"><img src=\"https://colab.research.google.com/assets/colab-badge.svg\" alt=\"Open In Colab\"/></a>"
      ]
    },
    {
      "cell_type": "markdown",
      "source": [
        "# Aula 02: Variáveis e Funções\n",
        "\n"
      ],
      "metadata": {
        "id": "Mk92VcvvrGqp"
      }
    },
    {
      "cell_type": "markdown",
      "source": [
        "Até o momento, estamos utilizando o Python apenas como uma calculadora científica para avaliar expressões aritméticas. <br> Nesta aula vamos aprender a definir diferentes tipos de variáveis e funções em Python. Isso nos permitirá ter liberdade para trabalhar com expressões algébricas."
      ],
      "metadata": {
        "id": "-zvn8Djr3fmP"
      }
    },
    {
      "cell_type": "markdown",
      "source": [
        "## 1. Variáveis"
      ],
      "metadata": {
        "id": "GLpZUcF2v3rE"
      }
    },
    {
      "cell_type": "markdown",
      "source": [
        "Uma **variável** é um recipiente que armazena uma informação na memória do computador. <br>\n",
        "O nome da variável diz ao computador onde encontrar esse valor na memória.  "
      ],
      "metadata": {
        "id": "5ZyxYDl5SkLR"
      }
    },
    {
      "cell_type": "markdown",
      "source": [
        "---\n",
        "**Exemplo:** Armazenar o valor 2 na variável x.\n",
        "\n",
        "\n",
        "---\n"
      ],
      "metadata": {
        "id": "Mj48VBnRTjFi"
      }
    },
    {
      "cell_type": "code",
      "source": [
        "x = 2\n",
        "x"
      ],
      "metadata": {
        "id": "1W6bZUBBSXDa"
      },
      "execution_count": null,
      "outputs": []
    },
    {
      "cell_type": "markdown",
      "source": [
        "\n",
        "\n",
        "---\n",
        "**Exemplo:** Armazenar o valor 5 na variável y, multiplicar por 4 e observar resultado.\n",
        "\n",
        "\n",
        "---\n",
        "\n",
        "\n"
      ],
      "metadata": {
        "id": "EasQJgMz2_hX"
      }
    },
    {
      "cell_type": "code",
      "source": [
        "y = 5\n",
        "y*4"
      ],
      "metadata": {
        "id": "xWrjLy1Zv3Dk"
      },
      "execution_count": null,
      "outputs": []
    },
    {
      "cell_type": "markdown",
      "source": [
        "Os nomes das variáveis devem seguir as seguintes regras:\n",
        "\n",
        "\n",
        "*   Somente caracteres alfa-numéricos (letras e números) e *underscore* (_);\n",
        "*   Primeiro caractere deve ser uma letra ou underscore;\n",
        "*   Espaços não são permitidos;\n",
        "*   Sensível a maiúsculas e minúsculas.\n",
        "\n",
        "Exemplos:\n",
        "\n",
        "\n",
        "*   Permitidos: `distAB`, `raio2`, `dens_rho`, `camelCase`\n",
        "*   Proibidos: `2raio`, `número de carros`, `dens!`\n",
        "\n",
        "\n",
        "\n"
      ],
      "metadata": {
        "id": "TVvbrMGmdAus"
      }
    },
    {
      "cell_type": "markdown",
      "source": [
        "\n",
        "\n",
        "---\n",
        "**Exemplo:** Listar todas as variáveis armazenadas neste Notebook com um comando mágico (*magic command*).\n",
        "\n",
        "---\n",
        "\n"
      ],
      "metadata": {
        "id": "7XZjtc9hTqhq"
      }
    },
    {
      "cell_type": "code",
      "source": [
        "%whos"
      ],
      "metadata": {
        "id": "vCGNRZy4Tqhw"
      },
      "execution_count": null,
      "outputs": []
    },
    {
      "cell_type": "markdown",
      "source": [
        "***Atenção!*** Em programação, a expressão $x=y$ **não** significa igualdade matemática. <br>\n",
        "Apenas significa que o valor da direita está sendo armazenado na **esquerda** (i.e., $x←y$)\n",
        "\n",
        "\n"
      ],
      "metadata": {
        "id": "WlYgGoJiT59q"
      }
    },
    {
      "cell_type": "code",
      "source": [
        "x = x + 1\n",
        "x"
      ],
      "metadata": {
        "id": "FnTj0V73T59w"
      },
      "execution_count": null,
      "outputs": []
    },
    {
      "cell_type": "code",
      "source": [
        "x = 1\n",
        "y = x + 1\n",
        "x = 2\n",
        "y"
      ],
      "metadata": {
        "id": "HFZL2RbdX88D"
      },
      "execution_count": null,
      "outputs": []
    },
    {
      "cell_type": "markdown",
      "source": [
        "---\n",
        "**Exemplo:** Limpar algumas variáveis armazenadas neste Notebook com um comando mágico (*magic command*).\n",
        "\n",
        "---"
      ],
      "metadata": {
        "id": "zVCWE5OQbCDr"
      }
    },
    {
      "cell_type": "code",
      "source": [
        "del y"
      ],
      "metadata": {
        "id": "uG_j8nGSbj30"
      },
      "execution_count": null,
      "outputs": []
    },
    {
      "cell_type": "code",
      "source": [
        "%whos"
      ],
      "metadata": {
        "id": "KooWG77dcJg8"
      },
      "execution_count": null,
      "outputs": []
    },
    {
      "cell_type": "markdown",
      "source": [
        "---\n",
        "**Exemplo:** Limpar todas as variáveis armazenadas neste Notebook com um comando mágico (*magic command*).\n",
        "\n",
        "---"
      ],
      "metadata": {
        "id": "meiDBLVWbvq7"
      }
    },
    {
      "cell_type": "code",
      "source": [
        "%reset"
      ],
      "metadata": {
        "id": "H5Rx3SwTcYPM"
      },
      "execution_count": null,
      "outputs": []
    },
    {
      "cell_type": "markdown",
      "source": [
        "##2. Estrutura de Dados"
      ],
      "metadata": {
        "id": "BEyJGqG0udoC"
      }
    },
    {
      "cell_type": "markdown",
      "source": [
        "### 2.1 String `\"Texto\"`\n",
        "\n",
        "Uma `string` é uma sequência de caracteres. Para definir uma variável como `string` basta utilizar aspas `'simples'` ou `\"duplas\"`."
      ],
      "metadata": {
        "id": "tnfhB8VQudUy"
      }
    },
    {
      "cell_type": "markdown",
      "source": [
        "\n",
        "\n",
        "---\n",
        "**Exemplo:** Imprima \"Eu amo Python!\" na tela usando a função `print`.\n",
        "\n",
        "\n",
        "---\n",
        "\n",
        "\n"
      ],
      "metadata": {
        "id": "DTn6CnlU3U6W"
      }
    },
    {
      "cell_type": "code",
      "source": [
        "print(\"Eu amo Python!\")"
      ],
      "metadata": {
        "id": "_BHFIvL_2vS2"
      },
      "execution_count": null,
      "outputs": []
    },
    {
      "cell_type": "markdown",
      "source": [
        "\n",
        "\n",
        "---\n",
        "**Exemplo:** Armazene essa `string` em uma variável `w`.\n",
        "\n",
        "\n",
        "---\n",
        "\n",
        "\n"
      ],
      "metadata": {
        "id": "WtYqf3Ne3m62"
      }
    },
    {
      "cell_type": "code",
      "source": [
        "w = \"Eu amo Python!\"\n",
        "print(w)\n",
        "type(w)"
      ],
      "metadata": {
        "id": "bgbUkNTC3m68"
      },
      "execution_count": null,
      "outputs": []
    },
    {
      "cell_type": "markdown",
      "source": [
        "\n",
        "\n",
        "---\n",
        "**Exemplo:** Determine o comprimento desta variável `w` usando `len()`.\n",
        "\n",
        "\n",
        "---\n",
        "\n",
        "\n"
      ],
      "metadata": {
        "id": "0yLmhi1Qi0Gd"
      }
    },
    {
      "cell_type": "code",
      "source": [
        "len(w)"
      ],
      "metadata": {
        "id": "jQPkdd6Ai0Ge"
      },
      "execution_count": null,
      "outputs": []
    },
    {
      "cell_type": "markdown",
      "source": [
        "\n",
        "\n",
        "---\n",
        "**Exemplo:** Recupere pedaços da variável `w` usando fatiamento (*slicing*) como `[início:fim:passo]`\n",
        "\n",
        "\n",
        "---\n",
        "\n",
        "Regras para *slicing*:\n",
        "\n",
        "\n",
        "*   O índice da posição começa em `0` (zero);\n",
        "*   O limite superior é excludente (ex.: `[6:11]` inclui os índices `6` a `10`);\n",
        "*   O passo padrão é `1` quando o passo não é especificado;\n",
        "*   Índices negativos podem ser usados para contar de trás pra frente (ex.: -1 é o último caractere, -2 o penúltimo, etc.)\n",
        "\n",
        "\n",
        "\n"
      ],
      "metadata": {
        "id": "9JyKLqzYmYBN"
      }
    },
    {
      "cell_type": "code",
      "source": [
        "w[7]"
      ],
      "metadata": {
        "id": "T8oJ-7WzmYBT"
      },
      "execution_count": null,
      "outputs": []
    },
    {
      "cell_type": "code",
      "source": [
        "w[3:6]"
      ],
      "metadata": {
        "id": "Hxrk_4MLqMSu"
      },
      "execution_count": null,
      "outputs": []
    },
    {
      "cell_type": "code",
      "source": [
        "w[7:]"
      ],
      "metadata": {
        "id": "sdRWP7OHqMAP"
      },
      "execution_count": null,
      "outputs": []
    },
    {
      "cell_type": "code",
      "source": [
        "w[:2]"
      ],
      "metadata": {
        "id": "Eb8NOr5-qcCf"
      },
      "execution_count": null,
      "outputs": []
    },
    {
      "cell_type": "code",
      "source": [
        "w[10:-1]"
      ],
      "metadata": {
        "id": "3FNluC6PrFj3"
      },
      "execution_count": null,
      "outputs": []
    },
    {
      "cell_type": "code",
      "source": [
        "w[::4]"
      ],
      "metadata": {
        "id": "m8PmGosduK64"
      },
      "execution_count": null,
      "outputs": []
    },
    {
      "cell_type": "markdown",
      "source": [
        "\n",
        "\n",
        "---\n",
        "**Exemplo:** Concatenar duas variáveis do tipo `string`.\n",
        "\n",
        "\n",
        "---\n",
        "\n",
        "\n"
      ],
      "metadata": {
        "id": "goZh7SlomYOA"
      }
    },
    {
      "cell_type": "code",
      "source": [
        "str_a = \"Eu amo Python! \"\n",
        "str_b = \"Você também!\"\n",
        "print(str_a + str_b)"
      ],
      "metadata": {
        "id": "F08OdqH2mYOA"
      },
      "execution_count": null,
      "outputs": []
    },
    {
      "cell_type": "markdown",
      "source": [
        "\n",
        "\n",
        "---\n",
        "**Exemplo:** Imprimir `x = 1` na tela.\n",
        "\n",
        "\n",
        "---\n",
        "\n",
        "\n"
      ],
      "metadata": {
        "id": "M_pYT8mMxagh"
      }
    },
    {
      "cell_type": "code",
      "source": [
        "x = 1\n",
        "print(\"x = \" + x)"
      ],
      "metadata": {
        "id": "vCED5pFTxagj"
      },
      "execution_count": null,
      "outputs": []
    },
    {
      "cell_type": "code",
      "source": [
        "print(\"x = \" + str(x))"
      ],
      "metadata": {
        "id": "pnMWLH0KyQKQ"
      },
      "execution_count": null,
      "outputs": []
    },
    {
      "cell_type": "markdown",
      "source": [
        "###2.2 Listas `[a,b,c]`\n",
        "\n",
        "Uma lista é definida por colchetes `[ ]` e consegue armazenar quaisquer tipos de dados (números, strings, outros). <br>\n",
        "Cada elemento da lista é separado por uma vírgula."
      ],
      "metadata": {
        "id": "eBmLolSHudKi"
      }
    },
    {
      "cell_type": "markdown",
      "source": [
        "\n",
        "---\n",
        "**Exemplo:** Criar uma lista de números, outra lista de strings e concatenar ambas.\n",
        "\n",
        "\n",
        "---\n",
        "\n",
        "\n"
      ],
      "metadata": {
        "id": "epW9OFRT3Vr2"
      }
    },
    {
      "cell_type": "code",
      "source": [
        "lista_1 = [1,2,3]\n",
        "lista_1"
      ],
      "metadata": {
        "id": "di9b3mwb2wIG"
      },
      "execution_count": null,
      "outputs": []
    },
    {
      "cell_type": "code",
      "source": [
        "lista_2 = [\"Métodos\", \"Numéricos\"]\n",
        "lista_2"
      ],
      "metadata": {
        "id": "IaeAEMUpzq2Q"
      },
      "execution_count": null,
      "outputs": []
    },
    {
      "cell_type": "code",
      "source": [
        "lista_3 = lista_1 + lista_2\n",
        "lista_3"
      ],
      "metadata": {
        "id": "2xNFOOx4z0Oh"
      },
      "execution_count": null,
      "outputs": []
    },
    {
      "cell_type": "markdown",
      "source": [
        "\n",
        "\n",
        "---\n",
        "**Exemplo:** Fazer fatiamento da `lista_3`.\n",
        "\n",
        "\n",
        "---\n",
        "\n",
        "\n"
      ],
      "metadata": {
        "id": "d5meh7MT3oqW"
      }
    },
    {
      "cell_type": "code",
      "source": [
        "lista_3[2]"
      ],
      "metadata": {
        "id": "fIq0oErY3oqj"
      },
      "execution_count": null,
      "outputs": []
    },
    {
      "cell_type": "code",
      "source": [
        "lista_3[:3]"
      ],
      "metadata": {
        "id": "B5pi_ZDg1kDp"
      },
      "execution_count": null,
      "outputs": []
    },
    {
      "cell_type": "code",
      "source": [
        "lista_3[-1]"
      ],
      "metadata": {
        "id": "W2wTA3eP1oJZ"
      },
      "execution_count": null,
      "outputs": []
    },
    {
      "cell_type": "code",
      "source": [
        "lista_3[0]"
      ],
      "metadata": {
        "id": "lzuwrnIJ1rsZ"
      },
      "execution_count": null,
      "outputs": []
    },
    {
      "cell_type": "markdown",
      "source": [
        "\n",
        "\n",
        "---\n",
        "**Exemplo:** Adicionar/Remover elementos da `lista_3`.\n",
        "\n",
        "\n",
        "---\n",
        "\n",
        "\n"
      ],
      "metadata": {
        "id": "t1eLW4T62fai"
      }
    },
    {
      "cell_type": "code",
      "source": [
        "lista_3.append(\"Python\")\n",
        "lista_3"
      ],
      "metadata": {
        "id": "-55ezTuV2fao"
      },
      "execution_count": null,
      "outputs": []
    },
    {
      "cell_type": "code",
      "source": [
        "lista_3.remove(\"Python\")\n",
        "lista_3"
      ],
      "metadata": {
        "id": "rQ8K2q0K25UR"
      },
      "execution_count": null,
      "outputs": []
    },
    {
      "cell_type": "code",
      "source": [
        "lista_3.insert(3,\"Python\")\n",
        "lista_3"
      ],
      "metadata": {
        "id": "yNs2GtSU3GvS"
      },
      "execution_count": null,
      "outputs": []
    },
    {
      "cell_type": "code",
      "source": [
        "del lista_3[3]\n",
        "lista_3"
      ],
      "metadata": {
        "id": "AvVYUVpM3Pox"
      },
      "execution_count": null,
      "outputs": []
    },
    {
      "cell_type": "markdown",
      "source": [
        "### 2.3 Tuples `(a,b,c)`\n",
        "\n",
        "Um tuple é definido por parênteses `( )` com elementos separados por vírgulas. Portanto, é semelhante às listas. Porém, os elementos de um tuple são **imutáveis**, enquanto os elementos das listas podem ser alterados."
      ],
      "metadata": {
        "id": "n--Jqpr7udBi"
      }
    },
    {
      "cell_type": "markdown",
      "source": [
        "\n",
        "\n",
        "---\n",
        "**Exemplo:** Definir um tuple e tentar modificar seus elementos.\n",
        "\n",
        "\n",
        "---\n",
        "\n",
        "\n"
      ],
      "metadata": {
        "id": "9PuzbObF3W3W"
      }
    },
    {
      "cell_type": "code",
      "source": [
        "tuple_1 = (1,2,3,4)\n",
        "tuple_1"
      ],
      "metadata": {
        "id": "Wopw7-gJ2xQW"
      },
      "execution_count": null,
      "outputs": []
    },
    {
      "cell_type": "code",
      "source": [
        "tuple_1[2]=1"
      ],
      "metadata": {
        "id": "dVfLe_x67EE5"
      },
      "execution_count": null,
      "outputs": []
    },
    {
      "cell_type": "code",
      "source": [
        "lista_1[2]=1\n",
        "lista_1"
      ],
      "metadata": {
        "id": "Jq6TFypp7KLC"
      },
      "execution_count": null,
      "outputs": []
    },
    {
      "cell_type": "markdown",
      "source": [
        "\n",
        "\n",
        "---\n",
        "**Exemplo:** Fatiar e determinar o comprimento de tuples.\n",
        "\n",
        "\n",
        "---\n",
        "\n",
        "\n"
      ],
      "metadata": {
        "id": "mJlOCvwr3pmm"
      }
    },
    {
      "cell_type": "code",
      "source": [
        "tuple_1[1:3]"
      ],
      "metadata": {
        "id": "qdoq82C13pmo"
      },
      "execution_count": null,
      "outputs": []
    },
    {
      "cell_type": "code",
      "source": [
        "len(tuple_1)"
      ],
      "metadata": {
        "id": "Ul994PPoC3oz"
      },
      "execution_count": null,
      "outputs": []
    },
    {
      "cell_type": "markdown",
      "source": [
        "### 2.4 Conjuntos (*Sets*) `{a,b,c}`\n",
        "\n",
        "Conjuntos são coleções desordenadas sem duplicatas. São definidos por chaves `{ }` e os elementos separados por vírgulas."
      ],
      "metadata": {
        "id": "ulimeRHjuc2b"
      }
    },
    {
      "cell_type": "code",
      "source": [
        "{3,2,5,6,7,1,2,2,3,4}"
      ],
      "metadata": {
        "id": "g7XZ1G5J2xsu"
      },
      "execution_count": null,
      "outputs": []
    },
    {
      "cell_type": "markdown",
      "source": [
        "\n",
        "\n",
        "---\n",
        "**Exemplo:** Encontre os elementos únicos em uma lista, um tuple e um string usando a função `set()`.\n",
        "\n",
        "\n",
        "---\n",
        "\n",
        "\n"
      ],
      "metadata": {
        "id": "bV0KOg1-3XXO"
      }
    },
    {
      "cell_type": "code",
      "source": [
        "set_1 = set([1,2,2,3,2,1,2])\n",
        "set_1"
      ],
      "metadata": {
        "id": "_tMeY7fy3qSH"
      },
      "execution_count": null,
      "outputs": []
    },
    {
      "cell_type": "code",
      "source": [
        "set_2 = set((2,4,6,5,2))\n",
        "set_2"
      ],
      "metadata": {
        "id": "fgi5t6KrE8RI"
      },
      "execution_count": null,
      "outputs": []
    },
    {
      "cell_type": "code",
      "source": [
        "set_3 = set(\"Banana\")\n",
        "set_3"
      ],
      "metadata": {
        "id": "-ii4vCBPE7tY"
      },
      "execution_count": null,
      "outputs": []
    },
    {
      "cell_type": "markdown",
      "source": [
        "### 2.5 Dicionários `{key:value}`\n",
        "\n",
        "Dicionários são definidos por chaves `{ }` e os elementos separados por vírgulas, mas cada elemento é um par `chave:valor`. Ao invés de utilizar uma sequência de números para indexar os elementos (i.e., strings, listas e tuples) os dicionários usam \"palavras\". As chaves podem ser strings, números, ou até tuples (mas não listas)."
      ],
      "metadata": {
        "id": "rWC4sxyOvuV9"
      }
    },
    {
      "cell_type": "code",
      "source": [
        "dict_1 = {\"metano\":16.04, \"etano\":30.07, \"propano\":44.097}\n",
        "dict_1"
      ],
      "metadata": {
        "id": "mlBk9M0SFp5E"
      },
      "execution_count": null,
      "outputs": []
    },
    {
      "cell_type": "markdown",
      "source": [
        "\n",
        "\n",
        "---\n",
        "**Exemplo:** Obter o elemento \"etano\" do dicionário `dict_1`.\n",
        "\n",
        "\n",
        "---\n",
        "\n",
        "\n"
      ],
      "metadata": {
        "id": "M3Ue-RM43X0f"
      }
    },
    {
      "cell_type": "code",
      "source": [
        "dict_1[\"etano\"]"
      ],
      "metadata": {
        "id": "T0sRFOU92yJ2"
      },
      "execution_count": null,
      "outputs": []
    },
    {
      "cell_type": "markdown",
      "source": [
        "\n",
        "\n",
        "---\n",
        "**Exemplo:** Obter todas as chaves e valores do `dict_1`.\n",
        "\n",
        "\n",
        "---\n",
        "\n",
        "\n"
      ],
      "metadata": {
        "id": "2BxFJDXx3rEu"
      }
    },
    {
      "cell_type": "code",
      "source": [
        "dict_1.keys()"
      ],
      "metadata": {
        "id": "iTW6CKHE3rEw"
      },
      "execution_count": null,
      "outputs": []
    },
    {
      "cell_type": "code",
      "source": [
        "dict_1.values()"
      ],
      "metadata": {
        "id": "IB_Yw6guHLFh"
      },
      "execution_count": null,
      "outputs": []
    },
    {
      "cell_type": "markdown",
      "source": [
        "\n",
        "\n",
        "---\n",
        "**Exemplo:** Definir um dicionário vazio `IUPAC` e adicionar compostos.\n",
        "\n",
        "\n",
        "---\n",
        "\n",
        "\n"
      ],
      "metadata": {
        "id": "qkS8lcctIEyb"
      }
    },
    {
      "cell_type": "code",
      "source": [
        "IUPAC = {}\n",
        "IUPAC[\"metanol\"]= 32.04\n",
        "IUPAC"
      ],
      "metadata": {
        "id": "T80Aby62IEyh"
      },
      "execution_count": null,
      "outputs": []
    },
    {
      "cell_type": "code",
      "source": [
        "IUPAC[\"etanol\"]=46.08\n",
        "IUPAC"
      ],
      "metadata": {
        "id": "KeEnLmn9Inzg"
      },
      "execution_count": null,
      "outputs": []
    },
    {
      "cell_type": "markdown",
      "source": [
        "###2.6 Numpy Arrays `np.array`\n",
        "\n",
        "Numpy é um dos módulos mais fundamentais em Python para a utilização de métodos numéricos e será muito utilizado em nosso curso. Ele é usado para a definição de arranjos (*arrays*) e matrizes $N$-dimensionais (vetores, matrizes e tensores). O modo convencional de importar o módulo `numpy` é usando `np` como abreviação."
      ],
      "metadata": {
        "id": "cKuCx8R4vuJ0"
      }
    },
    {
      "cell_type": "code",
      "source": [
        "import numpy as np"
      ],
      "metadata": {
        "id": "kpr7m2qDjPD3"
      },
      "execution_count": null,
      "outputs": []
    },
    {
      "cell_type": "markdown",
      "source": [
        "\n",
        "\n",
        "---\n",
        "**Exemplo:** Crie o vetor $x=\\begin{pmatrix} 1 & 2 & 3\\end{pmatrix}$ e a matriz $y = \\begin{pmatrix} 1 & 4 & 3 \\\\ 9 & 2 & 7 \\\\ 2 & 5 & 6\\end{pmatrix}$.\n",
        "\n",
        "\n",
        "---\n",
        "\n",
        "\n"
      ],
      "metadata": {
        "id": "tZqYS2e93YPu"
      }
    },
    {
      "cell_type": "code",
      "source": [
        "x = np.array([1,2,3])\n",
        "x"
      ],
      "metadata": {
        "id": "g6tImGhA2yoO",
        "colab": {
          "base_uri": "https://localhost:8080/"
        },
        "outputId": "6d207bc8-6631-4fbc-aff3-4d30ec483696"
      },
      "execution_count": null,
      "outputs": [
        {
          "output_type": "execute_result",
          "data": {
            "text/plain": [
              "array([1, 2, 3])"
            ]
          },
          "metadata": {},
          "execution_count": 3
        }
      ]
    },
    {
      "cell_type": "code",
      "source": [
        "y = np.array([[1,4,3],[9,2,7],[2,5,6]])\n",
        "y"
      ],
      "metadata": {
        "id": "uKH1f-TclR41",
        "colab": {
          "base_uri": "https://localhost:8080/"
        },
        "outputId": "bb431e83-e1ed-4e5e-9051-664b09433153"
      },
      "execution_count": null,
      "outputs": [
        {
          "output_type": "execute_result",
          "data": {
            "text/plain": [
              "array([[1, 4, 3],\n",
              "       [9, 2, 7],\n",
              "       [2, 5, 6]])"
            ]
          },
          "metadata": {},
          "execution_count": 4
        }
      ]
    },
    {
      "cell_type": "markdown",
      "source": [
        "\n",
        "\n",
        "---\n",
        "**Exemplo:** Determine o número de linhas, colunas e elementos da matriz $y$.\n",
        "\n",
        "\n",
        "---\n",
        "\n",
        "\n"
      ],
      "metadata": {
        "id": "GTSUqx5e3r3m"
      }
    },
    {
      "cell_type": "code",
      "source": [
        "y.shape   # shape é um atributo do objeto y"
      ],
      "metadata": {
        "id": "CPxoDJtH3r3n",
        "colab": {
          "base_uri": "https://localhost:8080/"
        },
        "outputId": "c6aab2f0-3e53-4321-d8bd-e7849c79c3fa"
      },
      "execution_count": null,
      "outputs": [
        {
          "output_type": "execute_result",
          "data": {
            "text/plain": [
              "(3, 3)"
            ]
          },
          "metadata": {},
          "execution_count": 5
        }
      ]
    },
    {
      "cell_type": "code",
      "source": [
        "y.size"
      ],
      "metadata": {
        "id": "drkXS8_mmOBv",
        "colab": {
          "base_uri": "https://localhost:8080/"
        },
        "outputId": "1adea416-064d-4aef-8e67-7da19eef4c9c"
      },
      "execution_count": null,
      "outputs": [
        {
          "output_type": "execute_result",
          "data": {
            "text/plain": [
              "9"
            ]
          },
          "metadata": {},
          "execution_count": 6
        }
      ]
    },
    {
      "cell_type": "markdown",
      "source": [
        "\n",
        "\n",
        "---\n",
        "**Exemplo:** Crie um array $z$ com elementos de $1$ a $100$ e incrementos de $1$ unidade.\n",
        "\n",
        "\n",
        "---\n",
        "\n",
        "\n"
      ],
      "metadata": {
        "id": "uhV6U2-Pmepi"
      }
    },
    {
      "cell_type": "code",
      "source": [
        "z = np.arange(1,100)\n",
        "z"
      ],
      "metadata": {
        "id": "yVURaq-vmepq",
        "colab": {
          "base_uri": "https://localhost:8080/"
        },
        "outputId": "4fcf8ed6-667a-4d6a-e31d-c84c0608fd4c"
      },
      "execution_count": null,
      "outputs": [
        {
          "output_type": "execute_result",
          "data": {
            "text/plain": [
              "array([ 1,  2,  3,  4,  5,  6,  7,  8,  9, 10, 11, 12, 13, 14, 15, 16, 17,\n",
              "       18, 19, 20, 21, 22, 23, 24, 25, 26, 27, 28, 29, 30, 31, 32, 33, 34,\n",
              "       35, 36, 37, 38, 39, 40, 41, 42, 43, 44, 45, 46, 47, 48, 49, 50, 51,\n",
              "       52, 53, 54, 55, 56, 57, 58, 59, 60, 61, 62, 63, 64, 65, 66, 67, 68,\n",
              "       69, 70, 71, 72, 73, 74, 75, 76, 77, 78, 79, 80, 81, 82, 83, 84, 85,\n",
              "       86, 87, 88, 89, 90, 91, 92, 93, 94, 95, 96, 97, 98, 99])"
            ]
          },
          "metadata": {},
          "execution_count": 7
        }
      ]
    },
    {
      "cell_type": "markdown",
      "source": [
        "\n",
        "\n",
        "---\n",
        "**Exemplo:** Crie um array $x$ com elementos de $1.0$ a $3.0$ e incrementos de $0.2$.\n",
        "\n",
        "\n",
        "---\n",
        "\n",
        "\n"
      ],
      "metadata": {
        "id": "WDo895C8n2OL"
      }
    },
    {
      "cell_type": "code",
      "source": [
        "x = np.arange(1.0,3.0,0.2)\n",
        "x"
      ],
      "metadata": {
        "id": "TyENocKDn2OM",
        "colab": {
          "base_uri": "https://localhost:8080/"
        },
        "outputId": "80da3fb4-4a63-4027-eba2-54817aafc61a"
      },
      "execution_count": null,
      "outputs": [
        {
          "output_type": "execute_result",
          "data": {
            "text/plain": [
              "array([1. , 1.2, 1.4, 1.6, 1.8, 2. , 2.2, 2.4, 2.6, 2.8])"
            ]
          },
          "metadata": {},
          "execution_count": 8
        }
      ]
    },
    {
      "cell_type": "markdown",
      "source": [
        "\n",
        "\n",
        "---\n",
        "**Exemplo:** Crie um array $A$ com elementos de $2$ a $15$ e total de $5$ pontos igualmente espaçados.\n",
        "\n",
        "\n",
        "---\n",
        "\n",
        "\n"
      ],
      "metadata": {
        "id": "eQv9Psarn245"
      }
    },
    {
      "cell_type": "code",
      "source": [
        "A = np.linspace(2,15,5)\n",
        "A"
      ],
      "metadata": {
        "id": "jwbBldIFn246",
        "colab": {
          "base_uri": "https://localhost:8080/"
        },
        "outputId": "df8a2363-f2c8-4e32-b9f4-ed391293c821"
      },
      "execution_count": null,
      "outputs": [
        {
          "output_type": "execute_result",
          "data": {
            "text/plain": [
              "array([ 2.  ,  5.25,  8.5 , 11.75, 15.  ])"
            ]
          },
          "metadata": {},
          "execution_count": 9
        }
      ]
    },
    {
      "cell_type": "markdown",
      "source": [
        "\n",
        "\n",
        "---\n",
        "**Exemplo:** Crie um array $3 \\times 4$ com todos os elementos iguais a $0$.\n",
        "\n",
        "\n",
        "---\n",
        "\n",
        "\n"
      ],
      "metadata": {
        "id": "eA01ic2LpUul"
      }
    },
    {
      "cell_type": "code",
      "source": [
        "np.zeros((3,4))"
      ],
      "metadata": {
        "id": "X9mAoXappUu8",
        "colab": {
          "base_uri": "https://localhost:8080/"
        },
        "outputId": "78a13957-ee17-4f1d-8626-096c1df9b312"
      },
      "execution_count": null,
      "outputs": [
        {
          "output_type": "execute_result",
          "data": {
            "text/plain": [
              "array([[0., 0., 0., 0.],\n",
              "       [0., 0., 0., 0.],\n",
              "       [0., 0., 0., 0.]])"
            ]
          },
          "metadata": {},
          "execution_count": 10
        }
      ]
    },
    {
      "cell_type": "markdown",
      "source": [
        "\n",
        "\n",
        "---\n",
        "**Exemplo:** Crie um array $4 \\times 3$ com todos os elementos iguais a $1$.\n",
        "\n",
        "\n",
        "---\n",
        "\n",
        "\n"
      ],
      "metadata": {
        "id": "CKwqeKIwpWA8"
      }
    },
    {
      "cell_type": "code",
      "source": [
        "np.ones((4,3))"
      ],
      "metadata": {
        "id": "fNJb55EvpWBK",
        "colab": {
          "base_uri": "https://localhost:8080/"
        },
        "outputId": "cc54745a-47ea-47c7-cd15-d4c2275b97c4"
      },
      "execution_count": null,
      "outputs": [
        {
          "output_type": "execute_result",
          "data": {
            "text/plain": [
              "array([[1., 1., 1.],\n",
              "       [1., 1., 1.],\n",
              "       [1., 1., 1.],\n",
              "       [1., 1., 1.]])"
            ]
          },
          "metadata": {},
          "execution_count": 11
        }
      ]
    },
    {
      "cell_type": "markdown",
      "source": [
        "\n",
        "\n",
        "---\n",
        "**Exemplo:** Criar uma matriz zero $2 \\times 2$ e preencher os valores $b =\n",
        " \\begin{pmatrix} 1 & 2 \\\\ 3 & 4 \\end{pmatrix}$ usando os índices do array.\n",
        "\n",
        "\n",
        "\n",
        "---\n",
        "\n",
        "\n"
      ],
      "metadata": {
        "id": "zcziHPeRpWg7"
      }
    },
    {
      "cell_type": "code",
      "source": [
        "b = np.zeros((2,2))\n",
        "b[0,0]=1             # b[linha, coluna]\n",
        "b[0,1]=2\n",
        "b[1,0]=3\n",
        "b[1,1]=4\n",
        "b"
      ],
      "metadata": {
        "id": "nrsoiy6qpWg7",
        "colab": {
          "base_uri": "https://localhost:8080/"
        },
        "outputId": "ecd817db-794c-4e50-a58f-7a6877eff31a"
      },
      "execution_count": null,
      "outputs": [
        {
          "output_type": "execute_result",
          "data": {
            "text/plain": [
              "array([[1., 2.],\n",
              "       [3., 4.]])"
            ]
          },
          "metadata": {},
          "execution_count": 12
        }
      ]
    },
    {
      "cell_type": "markdown",
      "source": [
        "\n",
        "\n",
        "---\n",
        "**Exemplo:** Adicionar e subtrair $2$ à matriz $b =\n",
        " \\begin{pmatrix} 1 & 2 \\\\ 3 & 4 \\end{pmatrix}$. Multiplicar a dividir $b$ por $2$. Elevar cada elemento de $b$ ao quadrado.\n",
        "\n",
        "\n",
        "\n",
        "---\n",
        "\n",
        "\n"
      ],
      "metadata": {
        "id": "t5Cm1ONYyacu"
      }
    },
    {
      "cell_type": "code",
      "source": [
        "b+2"
      ],
      "metadata": {
        "id": "3x05jrvwyacv",
        "colab": {
          "base_uri": "https://localhost:8080/"
        },
        "outputId": "fff05415-becc-4521-e7b7-08847e85d1bf"
      },
      "execution_count": null,
      "outputs": [
        {
          "output_type": "execute_result",
          "data": {
            "text/plain": [
              "array([[3., 4.],\n",
              "       [5., 6.]])"
            ]
          },
          "metadata": {},
          "execution_count": 13
        }
      ]
    },
    {
      "cell_type": "code",
      "source": [
        "b-2"
      ],
      "metadata": {
        "id": "Rz26-kzFzYjy",
        "colab": {
          "base_uri": "https://localhost:8080/"
        },
        "outputId": "0f5f32e2-40aa-45c0-e463-173aab657435"
      },
      "execution_count": null,
      "outputs": [
        {
          "output_type": "execute_result",
          "data": {
            "text/plain": [
              "array([[-1.,  0.],\n",
              "       [ 1.,  2.]])"
            ]
          },
          "metadata": {},
          "execution_count": 14
        }
      ]
    },
    {
      "cell_type": "code",
      "source": [
        "2 * b"
      ],
      "metadata": {
        "id": "kjbIV0spzYVJ",
        "colab": {
          "base_uri": "https://localhost:8080/"
        },
        "outputId": "72755b07-f7a8-44eb-8c83-9952f1085f17"
      },
      "execution_count": null,
      "outputs": [
        {
          "output_type": "execute_result",
          "data": {
            "text/plain": [
              "array([[2., 4.],\n",
              "       [6., 8.]])"
            ]
          },
          "metadata": {},
          "execution_count": 15
        }
      ]
    },
    {
      "cell_type": "code",
      "source": [
        "b / 2"
      ],
      "metadata": {
        "id": "neTm5FZyzX-J",
        "colab": {
          "base_uri": "https://localhost:8080/"
        },
        "outputId": "aff26678-3da2-4788-f506-49dbe8be7d3d"
      },
      "execution_count": null,
      "outputs": [
        {
          "output_type": "execute_result",
          "data": {
            "text/plain": [
              "array([[0.5, 1. ],\n",
              "       [1.5, 2. ]])"
            ]
          },
          "metadata": {},
          "execution_count": 16
        }
      ]
    },
    {
      "cell_type": "code",
      "source": [
        "b**2"
      ],
      "metadata": {
        "id": "tRAaN7TLzj8C",
        "colab": {
          "base_uri": "https://localhost:8080/"
        },
        "outputId": "35627574-1d59-487c-f7f5-d081999c40d6"
      },
      "execution_count": null,
      "outputs": [
        {
          "output_type": "execute_result",
          "data": {
            "text/plain": [
              "array([[ 1.,  4.],\n",
              "       [ 9., 16.]])"
            ]
          },
          "metadata": {},
          "execution_count": 17
        }
      ]
    },
    {
      "cell_type": "markdown",
      "source": [
        "\n",
        "\n",
        "---\n",
        "**Exemplo:** Seja $b = \\begin{pmatrix} 1 & 2 \\\\ 3 & 4 \\end{pmatrix}$ e $d = \\begin{pmatrix} 5 & 6 \\\\ 7 & 8 \\end{pmatrix}$. Calcule a soma, subtração, multiplicação, divisão e potenciação dessas matrizes.\n",
        "\n",
        "\n",
        "\n",
        "\n",
        "\n",
        "---\n",
        "\n",
        "\n"
      ],
      "metadata": {
        "id": "lKIuGX5eybTm"
      }
    },
    {
      "cell_type": "code",
      "source": [
        "b = np.array([[1,2],[3,4]])\n",
        "d = np.array([[5,6],[7,8]])"
      ],
      "metadata": {
        "id": "jiq5I-t9zi21"
      },
      "execution_count": null,
      "outputs": []
    },
    {
      "cell_type": "code",
      "source": [
        "b + d"
      ],
      "metadata": {
        "id": "V-IUGThFybTs",
        "colab": {
          "base_uri": "https://localhost:8080/"
        },
        "outputId": "9edab36b-efbf-473e-957d-952056fa1490"
      },
      "execution_count": null,
      "outputs": [
        {
          "output_type": "execute_result",
          "data": {
            "text/plain": [
              "array([[ 6,  8],\n",
              "       [10, 12]])"
            ]
          },
          "metadata": {},
          "execution_count": 20
        }
      ]
    },
    {
      "cell_type": "code",
      "source": [
        "b - d"
      ],
      "metadata": {
        "id": "rxPtMf6im6cI",
        "colab": {
          "base_uri": "https://localhost:8080/"
        },
        "outputId": "96c1e9a9-59ac-4a3e-f642-1788df22247c"
      },
      "execution_count": null,
      "outputs": [
        {
          "output_type": "execute_result",
          "data": {
            "text/plain": [
              "array([[-4, -4],\n",
              "       [-4, -4]])"
            ]
          },
          "metadata": {},
          "execution_count": 21
        }
      ]
    },
    {
      "cell_type": "code",
      "source": [
        "b*d"
      ],
      "metadata": {
        "id": "MiA3PPJR0uNy",
        "colab": {
          "base_uri": "https://localhost:8080/"
        },
        "outputId": "721eb03a-a0c1-4439-af11-c70c5a4b7a79"
      },
      "execution_count": null,
      "outputs": [
        {
          "output_type": "execute_result",
          "data": {
            "text/plain": [
              "array([[ 5, 12],\n",
              "       [21, 32]])"
            ]
          },
          "metadata": {},
          "execution_count": 22
        }
      ]
    },
    {
      "cell_type": "code",
      "source": [
        "b/d"
      ],
      "metadata": {
        "id": "Zb7zZInV0uDq",
        "colab": {
          "base_uri": "https://localhost:8080/"
        },
        "outputId": "afd0bc62-042a-4fae-a635-4c235b712309"
      },
      "execution_count": null,
      "outputs": [
        {
          "output_type": "execute_result",
          "data": {
            "text/plain": [
              "array([[0.2       , 0.33333333],\n",
              "       [0.42857143, 0.5       ]])"
            ]
          },
          "metadata": {},
          "execution_count": 23
        }
      ]
    },
    {
      "cell_type": "code",
      "source": [
        "b**d"
      ],
      "metadata": {
        "id": "EmY4luEW0_9K",
        "colab": {
          "base_uri": "https://localhost:8080/"
        },
        "outputId": "ca35bca8-ae1a-497f-b4f4-f92a1d649577"
      },
      "execution_count": null,
      "outputs": [
        {
          "output_type": "execute_result",
          "data": {
            "text/plain": [
              "array([[    1,    64],\n",
              "       [ 2187, 65536]])"
            ]
          },
          "metadata": {},
          "execution_count": 24
        }
      ]
    },
    {
      "cell_type": "markdown",
      "source": [
        "\n",
        "\n",
        "---\n",
        "**Exemplo:** Calcule a raiz quadrada e o seno de cada elemento do vetor $x=[1,4,9,16]$.\n",
        "\n",
        "\n",
        "\n",
        "\n",
        "\n",
        "---\n",
        "\n",
        "\n"
      ],
      "metadata": {
        "id": "gRgecT-g9Bsm"
      }
    },
    {
      "cell_type": "code",
      "source": [
        "x = np.array([1,4,9,16])\n",
        "np.sqrt(x)"
      ],
      "metadata": {
        "id": "oDLbq_Z_9Bst",
        "colab": {
          "base_uri": "https://localhost:8080/"
        },
        "outputId": "93d7c8fa-92df-4863-c866-bf12dd20d5b3"
      },
      "execution_count": null,
      "outputs": [
        {
          "output_type": "execute_result",
          "data": {
            "text/plain": [
              "array([1., 2., 3., 4.])"
            ]
          },
          "metadata": {},
          "execution_count": 25
        }
      ]
    },
    {
      "cell_type": "code",
      "source": [
        "np.sin(x)"
      ],
      "metadata": {
        "id": "FHn25CvB95zf",
        "colab": {
          "base_uri": "https://localhost:8080/"
        },
        "outputId": "460adc10-54a8-4b86-e489-7e55a9146e2b"
      },
      "execution_count": null,
      "outputs": [
        {
          "output_type": "execute_result",
          "data": {
            "text/plain": [
              "array([ 0.84147098, -0.7568025 ,  0.41211849, -0.28790332])"
            ]
          },
          "metadata": {},
          "execution_count": 26
        }
      ]
    },
    {
      "cell_type": "markdown",
      "source": [
        "## 3. Funções"
      ],
      "metadata": {
        "id": "4iVTkC-HvtAr"
      }
    },
    {
      "cell_type": "markdown",
      "source": [
        "### 3.1 Embutidas (*Built-In*)"
      ],
      "metadata": {
        "id": "tAVHn-Y6xL3n"
      }
    },
    {
      "cell_type": "markdown",
      "source": [
        "\n",
        "\n",
        "---\n",
        "**Exemplo:** Verificar que a fução `len` é uma função embutida.\n",
        "\n",
        "\n",
        "---\n",
        "\n",
        "\n"
      ],
      "metadata": {
        "id": "PKBKEHmB3Y5m"
      }
    },
    {
      "cell_type": "code",
      "source": [
        "type(len)"
      ],
      "metadata": {
        "id": "A4M9aJwt2zJm",
        "colab": {
          "base_uri": "https://localhost:8080/"
        },
        "outputId": "b8070784-c56a-4c65-e0e6-7566754f68ae"
      },
      "execution_count": null,
      "outputs": [
        {
          "output_type": "execute_result",
          "data": {
            "text/plain": [
              "builtin_function_or_method"
            ]
          },
          "metadata": {},
          "execution_count": 27
        }
      ]
    },
    {
      "cell_type": "markdown",
      "source": [
        "\n",
        "\n",
        "---\n",
        "**Exemplo:** Verificar que `np.linspace` é uma função e usar um ponto de interrogação para obter ajuda sobre como usá-la.\n",
        "\n",
        "\n",
        "---\n",
        "\n",
        "\n"
      ],
      "metadata": {
        "id": "sMrINQzd3tp-"
      }
    },
    {
      "cell_type": "code",
      "source": [
        "import numpy as np\n",
        "type(np.linspace)"
      ],
      "metadata": {
        "id": "gqUxvSDD3tqE",
        "colab": {
          "base_uri": "https://localhost:8080/"
        },
        "outputId": "4b9f4ab2-6802-464c-ff67-a384480e6ca3"
      },
      "execution_count": null,
      "outputs": [
        {
          "output_type": "execute_result",
          "data": {
            "text/plain": [
              "function"
            ]
          },
          "metadata": {},
          "execution_count": 28
        }
      ]
    },
    {
      "cell_type": "code",
      "source": [
        "np.linspace?"
      ],
      "metadata": {
        "id": "BT4q0QenDuEY"
      },
      "execution_count": null,
      "outputs": []
    },
    {
      "cell_type": "markdown",
      "source": [
        "### 3.2 Definidas `def`\n",
        "\n",
        "Também é possível definir sua própria função através da palavra-chave `def`.\n",
        "\n",
        "```python\n",
        "def nome_da_funcao(parametro_1, parametro_2,...):  # Cabeçalho\n",
        "    \"\"\"\n",
        "    Descrição da Função (opcional)\n",
        "    Autor, Data  (opcional)\n",
        "    \"\"\"\n",
        "    # Comentários sobre a função\n",
        "    proposicoes_da_funcao\n",
        "    \n",
        "    return parametros_saida (opcional)   # Qualquer tipo de dado (até funções!)\n",
        "```\n",
        "\n"
      ],
      "metadata": {
        "id": "9TapraSbxLsH"
      }
    },
    {
      "cell_type": "markdown",
      "source": [
        "\n",
        "---\n",
        "**Exemplo:** Defina uma função que recebe $3$ números e retorna o produto deles.\n",
        "\n",
        "\n",
        "---\n",
        "\n",
        "\n"
      ],
      "metadata": {
        "id": "augNQhPo3ZTm"
      }
    },
    {
      "cell_type": "code",
      "source": [
        "def meu_multiplicador(a,b,c):\n",
        "    \"\"\"\n",
        "    Função que multiplica 3 números.\n",
        "    In: 3 números a,b,c\n",
        "    Out: produto de a,b,c\n",
        "    Autor: Pedro Constantino\n",
        "    Data: 6/10/23\n",
        "    \"\"\"\n",
        "    # Este é o produto\n",
        "    out = a*b*c\n",
        "\n",
        "    return out"
      ],
      "metadata": {
        "id": "hDNnmRK52zs-"
      },
      "execution_count": null,
      "outputs": []
    },
    {
      "cell_type": "code",
      "source": [
        "help(meu_multiplicador)"
      ],
      "metadata": {
        "id": "aacxp2BPYceb",
        "colab": {
          "base_uri": "https://localhost:8080/"
        },
        "outputId": "3097278c-e2f1-45da-f88e-a5a7fc6d47bf"
      },
      "execution_count": null,
      "outputs": [
        {
          "output_type": "stream",
          "name": "stdout",
          "text": [
            "Help on function meu_multiplicador in module __main__:\n",
            "\n",
            "meu_multiplicador(a, b, c)\n",
            "    Função que multiplica 3 números.\n",
            "    In: 3 números a,b,c\n",
            "    Out: produto de a,b,c\n",
            "    Autor: Pedro Constantino\n",
            "    Data: 6/10/23\n",
            "\n"
          ]
        }
      ]
    },
    {
      "cell_type": "code",
      "source": [
        "meu_multiplicador(1,2,3)"
      ],
      "metadata": {
        "id": "01pacfmoYFMS",
        "colab": {
          "base_uri": "https://localhost:8080/"
        },
        "outputId": "b359eb29-8acb-4ca6-935c-bde3cfb8043d"
      },
      "execution_count": null,
      "outputs": [
        {
          "output_type": "execute_result",
          "data": {
            "text/plain": [
              "6"
            ]
          },
          "metadata": {},
          "execution_count": 32
        }
      ]
    },
    {
      "cell_type": "code",
      "source": [
        "meu_multiplicador(\"Amo\",\"Python\",3)"
      ],
      "metadata": {
        "id": "OR6HtjDSZrVq",
        "colab": {
          "base_uri": "https://localhost:8080/",
          "height": 298
        },
        "outputId": "87280dbd-9736-49f5-81bd-6b9d87b39497"
      },
      "execution_count": null,
      "outputs": [
        {
          "output_type": "error",
          "ename": "TypeError",
          "evalue": "ignored",
          "traceback": [
            "\u001b[0;31m------------------------------------------------------------------------\u001b[0m",
            "\u001b[0;31mTypeError\u001b[0m                              Traceback (most recent call last)",
            "\u001b[0;32m<ipython-input-33-99ef4e2d3602>\u001b[0m in \u001b[0;36m<module>\u001b[0;34m()\u001b[0m\n\u001b[0;32m----> 1\u001b[0;31m \u001b[0mmeu_multiplicador\u001b[0m\u001b[0;34m(\u001b[0m\u001b[0;34m\"Amo\"\u001b[0m\u001b[0;34m,\u001b[0m\u001b[0;34m\"Python\"\u001b[0m\u001b[0;34m,\u001b[0m\u001b[0;36m3\u001b[0m\u001b[0;34m)\u001b[0m\u001b[0;34m\u001b[0m\u001b[0m\n\u001b[0m",
            "\u001b[0;32m<ipython-input-30-6e658224cc1b>\u001b[0m in \u001b[0;36mmeu_multiplicador\u001b[0;34m(a, b, c)\u001b[0m\n\u001b[1;32m      8\u001b[0m     \"\"\"\n\u001b[1;32m      9\u001b[0m     \u001b[0;31m# Este é o produto\u001b[0m\u001b[0;34m\u001b[0m\u001b[0;34m\u001b[0m\u001b[0m\n\u001b[0;32m---> 10\u001b[0;31m     \u001b[0mout\u001b[0m \u001b[0;34m=\u001b[0m \u001b[0ma\u001b[0m\u001b[0;34m*\u001b[0m\u001b[0mb\u001b[0m\u001b[0;34m*\u001b[0m\u001b[0mc\u001b[0m\u001b[0;34m\u001b[0m\u001b[0m\n\u001b[0m\u001b[1;32m     11\u001b[0m \u001b[0;34m\u001b[0m\u001b[0m\n\u001b[1;32m     12\u001b[0m     \u001b[0;32mreturn\u001b[0m \u001b[0mout\u001b[0m\u001b[0;34m\u001b[0m\u001b[0m\n",
            "\u001b[0;31mTypeError\u001b[0m: can't multiply sequence by non-int of type 'str'"
          ]
        }
      ]
    },
    {
      "cell_type": "code",
      "source": [
        "meu_multiplicador(2,np.pi,np.sin(np.pi/2))"
      ],
      "metadata": {
        "id": "3zYwvlEfanqj",
        "colab": {
          "base_uri": "https://localhost:8080/"
        },
        "outputId": "f4327517-d96a-4cd0-af73-a59b66372861"
      },
      "execution_count": null,
      "outputs": [
        {
          "output_type": "execute_result",
          "data": {
            "text/plain": [
              "6.283185307179586"
            ]
          },
          "metadata": {},
          "execution_count": 34
        }
      ]
    },
    {
      "cell_type": "code",
      "source": [
        "meu_multiplicador(1+2,3*4,5/6)"
      ],
      "metadata": {
        "id": "Ote0u0KVcsQz",
        "colab": {
          "base_uri": "https://localhost:8080/"
        },
        "outputId": "59d2e5a5-f7a0-424d-dcba-333972f746f6"
      },
      "execution_count": null,
      "outputs": [
        {
          "output_type": "execute_result",
          "data": {
            "text/plain": [
              "30.0"
            ]
          },
          "metadata": {},
          "execution_count": 35
        }
      ]
    },
    {
      "cell_type": "markdown",
      "source": [
        "\n",
        "\n",
        "---\n",
        "**Exemplo:** Implementar função com mais de uma saída.\n",
        "\n",
        "\n",
        "---\n",
        "\n",
        "\n"
      ],
      "metadata": {
        "id": "451iYj2Q3vIW"
      }
    },
    {
      "cell_type": "code",
      "source": [
        "def soma_trigonometrica(a,b):\n",
        "    \"\"\"\n",
        "    Função para demonstrar múltiplas saídas\n",
        "    sen(a+b) = sen(a)cos(b)+sen(b)cos(a)\n",
        "    \"\"\"\n",
        "    # Relações Matemáticas\n",
        "    out1 = np.sin(a)+np.cos(b)\n",
        "    out2 = np.sin(b)+np.cos(a)\n",
        "\n",
        "    return out1, out2, [out1,out2]"
      ],
      "metadata": {
        "id": "BdIGZ01t3vIj"
      },
      "execution_count": null,
      "outputs": []
    },
    {
      "cell_type": "code",
      "source": [
        "c,d,e = soma_trigonometrica(2,3)\n",
        "\n",
        "# Utilizar uma f-string (string formatada)\n",
        "print(f\"c={c}, d={d}, e={e}\")"
      ],
      "metadata": {
        "id": "e_WEWVVgfMRr",
        "colab": {
          "base_uri": "https://localhost:8080/"
        },
        "outputId": "9f9cf68c-2b6e-4691-a01a-a20ee9666efb"
      },
      "execution_count": null,
      "outputs": [
        {
          "output_type": "stream",
          "name": "stdout",
          "text": [
            "c=-0.0806950697747637, d=-0.2750268284872752, e=[-0.0806950697747637, -0.2750268284872752]\n"
          ]
        }
      ]
    },
    {
      "cell_type": "markdown",
      "source": [
        "\n",
        "\n",
        "---\n",
        "**Exemplo:** Implementar função com argumentos padrões.\n",
        "\n",
        "\n",
        "---\n",
        "\n",
        "\n"
      ],
      "metadata": {
        "id": "MP4SMSnudJUM"
      }
    },
    {
      "cell_type": "code",
      "source": [
        "def email_aluno(nome=\"Fulereno\", dia=\"segunda\"):\n",
        "    print(f\"Olá,  {nome}! Sim, podemos marcar reunião na {dia}\")"
      ],
      "metadata": {
        "id": "Ypcq_TZodJUN"
      },
      "execution_count": null,
      "outputs": []
    },
    {
      "cell_type": "code",
      "source": [
        "email_aluno()"
      ],
      "metadata": {
        "id": "r-Sa9yb7l5x7",
        "colab": {
          "base_uri": "https://localhost:8080/"
        },
        "outputId": "82410bde-df38-4ba9-8d33-1c88e8958554"
      },
      "execution_count": null,
      "outputs": [
        {
          "output_type": "stream",
          "name": "stdout",
          "text": [
            "Olá,  Fulereno! Sim, podemos marcar reunião na segunda\n"
          ]
        }
      ]
    },
    {
      "cell_type": "code",
      "source": [
        "email_aluno(nome=\"Ciclohexano\", dia=\"quarta\")"
      ],
      "metadata": {
        "id": "VIbYbJlSl-ZT",
        "colab": {
          "base_uri": "https://localhost:8080/"
        },
        "outputId": "570912d2-d488-4268-9488-3a779edd4caa"
      },
      "execution_count": null,
      "outputs": [
        {
          "output_type": "stream",
          "name": "stdout",
          "text": [
            "Olá,  Ciclohexano! Sim, podemos marcar reunião na quarta\n"
          ]
        }
      ]
    },
    {
      "cell_type": "markdown",
      "source": [
        "### 3.3 Lambda `lambda`\n",
        "\n",
        "Um atalho mais rápido para definir uma função de uma única linha.\n",
        "\n",
        "```python\n",
        "lambda argumentos: expressão\n",
        "```"
      ],
      "metadata": {
        "id": "TbXk2aoVxLh3"
      }
    },
    {
      "cell_type": "markdown",
      "source": [
        "\n",
        "\n",
        "---\n",
        "**Exemplo:** Definir uma função que calcula o quadrado do input.\n",
        "\n",
        "\n",
        "---\n",
        "\n",
        "\n"
      ],
      "metadata": {
        "id": "wTz-EVem3ZrG"
      }
    },
    {
      "cell_type": "code",
      "source": [
        "quad = lambda x: x**2\n",
        "\n",
        "print(quad(2))\n",
        "print(quad(5))"
      ],
      "metadata": {
        "id": "U77E7yyg20Nm"
      },
      "execution_count": null,
      "outputs": []
    },
    {
      "cell_type": "code",
      "source": [
        "def quad_2(x):\n",
        "    out = x**2\n",
        "    return out\n",
        "\n",
        "quad_2(2)"
      ],
      "metadata": {
        "id": "OOIUTM614gCU"
      },
      "execution_count": null,
      "outputs": []
    },
    {
      "cell_type": "markdown",
      "source": [
        "\n",
        "\n",
        "---\n",
        "**Exemplo:** Definir uma função que soma $ x$ e $ y$\n",
        "\n",
        "\n",
        "---\n",
        "\n",
        "\n"
      ],
      "metadata": {
        "id": "Q1luXL673wbu"
      }
    },
    {
      "cell_type": "code",
      "source": [
        "soma = lambda x,y: x+y\n",
        "soma(2,4)"
      ],
      "metadata": {
        "id": "ivgDu8PG3wbz"
      },
      "execution_count": null,
      "outputs": []
    },
    {
      "cell_type": "markdown",
      "source": [
        "## 4. Local vs Global\n",
        "\n",
        "Uma função tem o seu próprio bloco de memória exclusivo para as variáveis criadas dentro da função. Essa memória não é compartilhada com o resto do Jupyter Notebook ou o programa principal."
      ],
      "metadata": {
        "id": "MD1O2sB0yvix"
      }
    },
    {
      "cell_type": "markdown",
      "source": [
        "### 4.1 Variáveis Locais e Globais"
      ],
      "metadata": {
        "id": "5lfTxum1zRDS"
      }
    },
    {
      "cell_type": "markdown",
      "source": [
        "\n",
        "\n",
        "---\n",
        "**Exemplo:** Usar uma variável `out` dentro de uma função e outra variável com o mesmo nome fora da função.\n",
        "\n",
        "\n",
        "---\n",
        "\n",
        "\n"
      ],
      "metadata": {
        "id": "ythHo9hG3aKd"
      }
    },
    {
      "cell_type": "code",
      "source": [
        "def meu_multiplicador(a,b,c):\n",
        "    out = a*b*c\n",
        "    print(f\"O valor de out dentro da função é {out}\")\n",
        "    return out\n",
        "\n",
        "out = 10\n",
        "d = meu_multiplicador(1,2,3)\n",
        "print(f\"O valor de out fora da função é {out}\")"
      ],
      "metadata": {
        "id": "uIv_2vv321kv",
        "colab": {
          "base_uri": "https://localhost:8080/"
        },
        "outputId": "ca9ab7ed-7b8a-454b-b217-0d4cb84e6045"
      },
      "execution_count": null,
      "outputs": [
        {
          "output_type": "stream",
          "name": "stdout",
          "text": [
            "O valor de out dentro da função é 6\n",
            "O valor de out fora da função é 10\n"
          ]
        }
      ]
    },
    {
      "cell_type": "markdown",
      "source": [
        "\n",
        "\n",
        "---\n",
        "**Exemplo:** Defina uma variável $n$ fora de uma função e tente usar dentro da função. Depois tente mudar essa variável dentro da função.\n",
        "\n",
        "\n",
        "---\n",
        "\n",
        "\n"
      ],
      "metadata": {
        "id": "wcUrQVRK3xUx"
      }
    },
    {
      "cell_type": "code",
      "source": [
        "n = 31\n",
        "\n",
        "def func():\n",
        "    print(f\"Dentro da função o valor de n é {n}\")\n",
        "    n = 13\n",
        "    print(f\"Dentro da função: mudei n para {n}\")\n",
        "    return\n",
        "\n",
        "func()\n",
        "print(f\"Fora da função o valor de n é {n}\")"
      ],
      "metadata": {
        "id": "UvCtMrtY3xU5",
        "colab": {
          "base_uri": "https://localhost:8080/",
          "height": 350
        },
        "outputId": "2b213e5d-692c-48f5-cf70-fa9a66855918"
      },
      "execution_count": null,
      "outputs": [
        {
          "output_type": "error",
          "ename": "UnboundLocalError",
          "evalue": "ignored",
          "traceback": [
            "\u001b[0;31m------------------------------------------------------------------------\u001b[0m",
            "\u001b[0;31mUnboundLocalError\u001b[0m                      Traceback (most recent call last)",
            "\u001b[0;32m<ipython-input-42-b7491d087e9d>\u001b[0m in \u001b[0;36m<module>\u001b[0;34m()\u001b[0m\n\u001b[1;32m      7\u001b[0m     \u001b[0;32mreturn\u001b[0m\u001b[0;34m\u001b[0m\u001b[0m\n\u001b[1;32m      8\u001b[0m \u001b[0;34m\u001b[0m\u001b[0m\n\u001b[0;32m----> 9\u001b[0;31m \u001b[0mfunc\u001b[0m\u001b[0;34m(\u001b[0m\u001b[0;34m)\u001b[0m\u001b[0;34m\u001b[0m\u001b[0m\n\u001b[0m\u001b[1;32m     10\u001b[0m \u001b[0mprint\u001b[0m\u001b[0;34m(\u001b[0m\u001b[0;34mf\"Fora da função o valor de n é {n}\"\u001b[0m\u001b[0;34m)\u001b[0m\u001b[0;34m\u001b[0m\u001b[0m\n",
            "\u001b[0;32m<ipython-input-42-b7491d087e9d>\u001b[0m in \u001b[0;36mfunc\u001b[0;34m()\u001b[0m\n\u001b[1;32m      2\u001b[0m \u001b[0;34m\u001b[0m\u001b[0m\n\u001b[1;32m      3\u001b[0m \u001b[0;32mdef\u001b[0m \u001b[0mfunc\u001b[0m\u001b[0;34m(\u001b[0m\u001b[0;34m)\u001b[0m\u001b[0;34m:\u001b[0m\u001b[0;34m\u001b[0m\u001b[0m\n\u001b[0;32m----> 4\u001b[0;31m     \u001b[0mprint\u001b[0m\u001b[0;34m(\u001b[0m\u001b[0;34mf\"Dentro da função o valor de n é {n}\"\u001b[0m\u001b[0;34m)\u001b[0m\u001b[0;34m\u001b[0m\u001b[0m\n\u001b[0m\u001b[1;32m      5\u001b[0m     \u001b[0mn\u001b[0m \u001b[0;34m=\u001b[0m \u001b[0;36m13\u001b[0m\u001b[0;34m\u001b[0m\u001b[0m\n\u001b[1;32m      6\u001b[0m     \u001b[0mprint\u001b[0m\u001b[0;34m(\u001b[0m\u001b[0;34mf\"Dentro da função: mudei n para {n}\"\u001b[0m\u001b[0;34m)\u001b[0m\u001b[0;34m\u001b[0m\u001b[0m\n",
            "\u001b[0;31mUnboundLocalError\u001b[0m: local variable 'n' referenced before assignment"
          ]
        }
      ]
    },
    {
      "cell_type": "code",
      "source": [
        "n = 31\n",
        "\n",
        "def func():\n",
        "    #print(f\"Dentro da função o valor de n é {n}\")\n",
        "    n = 13\n",
        "    print(f\"Dentro da função: mudei n para {n}\")\n",
        "    return\n",
        "\n",
        "func()\n",
        "print(f\"Fora da função o valor de n é {n}\")"
      ],
      "metadata": {
        "id": "NXMVEbxbJrgF",
        "colab": {
          "base_uri": "https://localhost:8080/"
        },
        "outputId": "774280a5-bd4f-409d-9a46-ab2f5cbeb176"
      },
      "execution_count": null,
      "outputs": [
        {
          "output_type": "stream",
          "name": "stdout",
          "text": [
            "Dentro da função: mudei n para 13\n",
            "Fora da função o valor de n é 31\n"
          ]
        }
      ]
    },
    {
      "cell_type": "code",
      "source": [
        "n = 31\n",
        "\n",
        "def func():\n",
        "    global n     # Agora n é uma variável global!\n",
        "    print(f\"Dentro da função o valor de n é {n}\")\n",
        "    n = 13\n",
        "    print(f\"Dentro da função: mudei n para {n}\")\n",
        "    return\n",
        "\n",
        "func()\n",
        "print(f\"Fora da função o valor de n é {n}\")"
      ],
      "metadata": {
        "id": "5bYWNlDmJQoc",
        "colab": {
          "base_uri": "https://localhost:8080/"
        },
        "outputId": "0557cc16-6c7e-4b7e-f792-f818b821dd77"
      },
      "execution_count": null,
      "outputs": [
        {
          "output_type": "stream",
          "name": "stdout",
          "text": [
            "Dentro da função o valor de n é 31\n",
            "Dentro da função: mudei n para 13\n",
            "Fora da função o valor de n é 13\n"
          ]
        }
      ]
    },
    {
      "cell_type": "markdown",
      "source": [
        "### 4.2 Funções Aninhadas (*Nested*)"
      ],
      "metadata": {
        "id": "rvemzXMHzVCL"
      }
    },
    {
      "cell_type": "markdown",
      "source": [
        "\n",
        "\n",
        "---\n",
        "**Exemplo:** Calcule todas as distâncias entre 3 pontos $x=(0,0), y=(0,1), z=(1,1)$\n",
        "\n",
        "\n",
        "---\n",
        "\n",
        "\n"
      ],
      "metadata": {
        "id": "Qa6mzgz_3age"
      }
    },
    {
      "cell_type": "code",
      "source": [
        "import numpy as np\n",
        "\n",
        "def dist_xyz(x,y,z):\n",
        "    \"\"\"\n",
        "    in: x, y, z são coordenadas 2D (tuples)\n",
        "    out: d - lista, onde:\n",
        "         d[0] é a distância entre x e y\n",
        "         d[1] é a distância entre x e z\n",
        "         d[2] é a distância entre y e z\n",
        "    \"\"\"\n",
        "    def dist(x,y):\n",
        "        out = np.sqrt((x[0]-y[0])**2+(x[1]-y[1])**2)\n",
        "        return out\n",
        "\n",
        "    d0=dist(x,y)\n",
        "    d1=dist(x,z)\n",
        "    d2=dist(y,z)\n",
        "\n",
        "    return [d0,d1,d2]"
      ],
      "metadata": {
        "id": "0P_6BmhXvLC-"
      },
      "execution_count": null,
      "outputs": []
    },
    {
      "cell_type": "code",
      "source": [
        "d = dist_xyz((0,0),(0,1),(1,1))\n",
        "print(d)"
      ],
      "metadata": {
        "id": "KJUZbWe8OrnO",
        "colab": {
          "base_uri": "https://localhost:8080/"
        },
        "outputId": "89e10cfc-f817-42fa-e15a-e6a06b09c934"
      },
      "execution_count": null,
      "outputs": [
        {
          "output_type": "stream",
          "name": "stdout",
          "text": [
            "[1.0, 1.4142135623730951, 1.0]\n"
          ]
        }
      ]
    },
    {
      "cell_type": "code",
      "source": [
        "d = dist((0,0),(0,1))   #A função interna (filha) não é \"vista\" fora da função externa (mãe)"
      ],
      "metadata": {
        "id": "s_mYjzGGRK6k",
        "colab": {
          "base_uri": "https://localhost:8080/",
          "height": 194
        },
        "outputId": "0e7c1e76-d4cd-4c5f-d517-c26a0ca8e803"
      },
      "execution_count": null,
      "outputs": [
        {
          "output_type": "error",
          "ename": "NameError",
          "evalue": "ignored",
          "traceback": [
            "\u001b[0;31m------------------------------------------------------------------------\u001b[0m",
            "\u001b[0;31mNameError\u001b[0m                              Traceback (most recent call last)",
            "\u001b[0;32m<ipython-input-47-6faba90f95fe>\u001b[0m in \u001b[0;36m<module>\u001b[0;34m()\u001b[0m\n\u001b[0;32m----> 1\u001b[0;31m \u001b[0md\u001b[0m \u001b[0;34m=\u001b[0m \u001b[0mdist\u001b[0m\u001b[0;34m(\u001b[0m\u001b[0;34m(\u001b[0m\u001b[0;36m0\u001b[0m\u001b[0;34m,\u001b[0m\u001b[0;36m0\u001b[0m\u001b[0;34m)\u001b[0m\u001b[0;34m,\u001b[0m\u001b[0;34m(\u001b[0m\u001b[0;36m0\u001b[0m\u001b[0;34m,\u001b[0m\u001b[0;36m1\u001b[0m\u001b[0;34m)\u001b[0m\u001b[0;34m)\u001b[0m   \u001b[0;31m#A função interna (filha) não é \"vista\" fora da função externa (mãe)\u001b[0m\u001b[0;34m\u001b[0m\u001b[0m\n\u001b[0m",
            "\u001b[0;31mNameError\u001b[0m: name 'dist' is not defined"
          ]
        }
      ]
    },
    {
      "cell_type": "code",
      "source": [
        "import numpy as np\n",
        "\n",
        "def dist_xyz(x,y,z):\n",
        "    \"\"\"\n",
        "    in: x, y, z são coordenadas 2D (tuples)\n",
        "    out: d - lista, onde:\n",
        "         d[0] é a distância entre x e y\n",
        "         d[1] é a distância entre x e z\n",
        "         d[2] é a distância entre y e z\n",
        "    \"\"\"\n",
        "\n",
        "    d0=np.sqrt((x[0]-y[0])**2+(x[1]-y[1])**2)\n",
        "    d1=np.sqrt((x[0]-z[0])**2+(x[1]-z[1])**2)\n",
        "    d2=np.sqrt((y[0]-z[0])**2+(y[1]-z[1])**2)\n",
        "\n",
        "    d = [d0,d1,d2]\n",
        "\n",
        "    return d"
      ],
      "metadata": {
        "id": "FRyfGkvc3x_f"
      },
      "execution_count": null,
      "outputs": []
    },
    {
      "cell_type": "code",
      "source": [
        "d = dist_xyz((0,0),(0,1),(1,1))\n",
        "print(d)"
      ],
      "metadata": {
        "id": "PcsY4VG_SEra",
        "colab": {
          "base_uri": "https://localhost:8080/"
        },
        "outputId": "ed204f22-c275-4c67-fda6-29ccd9b10195"
      },
      "execution_count": null,
      "outputs": [
        {
          "output_type": "stream",
          "name": "stdout",
          "text": [
            "[1.0, 1.4142135623730951, 1.0]\n"
          ]
        }
      ]
    },
    {
      "cell_type": "code",
      "source": [
        "range(1,5)[:]"
      ],
      "metadata": {
        "id": "lgXeAt5KApWb",
        "colab": {
          "base_uri": "https://localhost:8080/"
        },
        "outputId": "753f086f-1da2-42a0-fee5-5c5f3f48ee6a"
      },
      "execution_count": null,
      "outputs": [
        {
          "output_type": "execute_result",
          "data": {
            "text/plain": [
              "range(1, 5)"
            ]
          },
          "metadata": {},
          "execution_count": 6
        }
      ]
    },
    {
      "cell_type": "code",
      "source": [],
      "metadata": {
        "id": "nTphWB7QR1p-"
      },
      "execution_count": null,
      "outputs": []
    }
  ]
}